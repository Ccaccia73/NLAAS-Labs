{
 "cells": [
  {
   "cell_type": "code",
   "execution_count": 76,
   "metadata": {
    "collapsed": false
   },
   "outputs": [],
   "source": [
    "import numpy as np\n",
    "import os\n",
    "import glob\n",
    "import shutil\n",
    "import matplotlib.pyplot as plt\n",
    "import json\n",
    "import subprocess\n",
    "from matplotlib import rcParams\n",
    "rcParams['font.family'] = 'serif'\n",
    "rcParams['font.size'] = 16\n",
    "from IPython.display import Image\n",
    "%matplotlib inline"
   ]
  },
  {
   "cell_type": "markdown",
   "metadata": {},
   "source": [
    "Module for computations (if needed)"
   ]
  },
  {
   "cell_type": "code",
   "execution_count": 77,
   "metadata": {
    "collapsed": true
   },
   "outputs": [],
   "source": [
    "import FEM_utilities as FEM"
   ]
  },
  {
   "cell_type": "markdown",
   "metadata": {},
   "source": [
    "# Lab 06"
   ]
  },
  {
   "cell_type": "markdown",
   "metadata": {},
   "source": [
    "## 2) Buckling and post-buckling of a cantilever"
   ]
  },
  {
   "cell_type": "markdown",
   "metadata": {},
   "source": [
    "## Write input file - Beam"
   ]
  },
  {
   "cell_type": "code",
   "execution_count": 78,
   "metadata": {
    "collapsed": false
   },
   "outputs": [],
   "source": [
    "def write_beam_inp_file(L, h, b, num_e, E, ν, num_modes, typ='B', inc=1000, Lpb = 1, t_data=None):\n",
    "    \"\"\"\n",
    "    function to write inp file:\n",
    "    L        : lenght of cantilever\n",
    "    h        : height\n",
    "    b        :  thickness\n",
    "    num_e    : number of elements\n",
    "    E        : Young's modulus\n",
    "    nu       : Poisson ratio\n",
    "    num_modes: number of eigenvalues to be estimated\n",
    "    typ      : type of analysis\n",
    "                B (default) = buckling\n",
    "                P = postbuckling without imperfection\n",
    "                I = postbuckling with imperfection\n",
    "    inc      : number of steps for nonlinear postbuckling analysis\n",
    "    Lpb      : load for postbuckling (should be about 10*Pcr)\n",
    "    t_data   : parameters for step increment\n",
    "    \"\"\"\n",
    "    \n",
    "    if typ == 'I':\n",
    "        basename = 'b4_ne'+str(num_e).zfill(3)+'_aB'\n",
    "        impbasename = 'b2_ne'+str(num_e).zfill(3)+'_aB'\n",
    "    elif typ == 'P':\n",
    "        basename = 'b3_ne'+str(num_e).zfill(3)+'_aB'\n",
    "    else:\n",
    "        basename = 'b2_ne'+str(num_e).zfill(3)+'_aB'\n",
    "    \n",
    "    filename = basename+'.inp'\n",
    "    \n",
    "    outfile = open(filename, \"wt\")\n",
    "    \n",
    "    if typ == 'I':\n",
    "        outfile.write(\"** Lab 06 input file postbuckling - imperfection\\n\")\n",
    "    elif typ == 'P':\n",
    "        outfile.write(\"** Lab 06 input file postbuckling - std\\n\")\n",
    "    else:\n",
    "        outfile.write(\"** Lab 06 input file buckling - beam\\n\")\n",
    "    \n",
    "    elname = \"EALL\"\n",
    "    matname = \"mat1\"\n",
    "    buckstep = \"buckling\"\n",
    "    \n",
    "    n_coords = np.zeros((num_e+1,2))\n",
    "    \n",
    "    for ni in range(1,num_e+1):\n",
    "        n_coords[ni,0] = ni/(num_e)*L\n",
    "        \n",
    "    # NODES section\n",
    "    outfile.write(\"**\\n\")\n",
    "    outfile.write(\"** Nodes\\n\")\n",
    "    outfile.write(\"**\\n\")\n",
    "    outfile.write(\"*NODE\\n\")\n",
    "    \n",
    "    for i in range(num_e+1):\n",
    "        nodestring = \"{0:4d},{1:8},{2:8}\\n\".format(i+1,n_coords[i,0],n_coords[i,1])\n",
    "        outfile.write(nodestring)\n",
    "    \n",
    "    # imperfection\n",
    "    if typ == 'I':\n",
    "        outfile.write(\"*IMPERFECTION, file={0} ,step={1}\\n\".format(impbasename,1))\n",
    "        outfile.write(\"{0},{1}\\n\".format(1,.05))\n",
    "        \n",
    "    # ELEMENTS section\n",
    "    outfile.write(\"**\\n\")\n",
    "    outfile.write(\"** Elements\\n\")\n",
    "    outfile.write(\"**\\n\")\n",
    "    outfile.write(\"*ELEMENT, TYPE={0}, ELSET={1}\\n\".format('B31',elname))\n",
    "    for i in range(1,num_e+1):\n",
    "        outfile.write(\"{0:4d},{1:4d},{2:4d}\\n\".format(i,i,i+1))\n",
    "    \n",
    "    # BEAM section\n",
    "        \n",
    "    outfile.write(\"**\\n\")\n",
    "    outfile.write(\"** Beam section\\n\")\n",
    "    outfile.write(\"**\\n\")\n",
    "    outfile.write(\"*BEAM SECTION, SECTION=RECT, MATERIAL={0}, ELSET={1}\\n\".format(matname,elname))\n",
    "    outfile.write(\"{0},{1}\\n\".format(b,h))\n",
    "    # default orientation?\n",
    "    outfile.write(\"0,0,-1\\n\")\n",
    "    \n",
    "    # MATERIAL section\n",
    "    outfile.write(\"**\\n\")\n",
    "    outfile.write(\"** Materials\\n\")\n",
    "    outfile.write(\"**\\n\")\n",
    "    outfile.write(\"*MATERIAL, name = {0}\\n\".format(matname))\n",
    "    outfile.write(\"*ELASTIC\\n\")\n",
    "    outfile.write(\"{0},{1:6}\\n\".format(E,ν))\n",
    "    \n",
    "    \n",
    "    # BOUNDARY CONDITIONS\n",
    "    outfile.write(\"**\\n\")\n",
    "    outfile.write(\"** Boundary conditions\\n\")\n",
    "    outfile.write(\"**\\n\")\n",
    "    outfile.write(\"*BOUNDARY\\n\")\n",
    "    outfile.write(\"1,\\t1,\\t6\\n\")\n",
    "    \n",
    "    # calculation steps\n",
    "    \n",
    "    outfile.write(\"**\\n\")\n",
    "    outfile.write(\"** Step\\n\")\n",
    "    outfile.write(\"**\\n\")\n",
    "    \n",
    "    \n",
    "    if typ == 'P' or typ == 'I':\n",
    "        outfile.write(\"*STEP, NLGEOM, INC={0}\\n\".format(inc))\n",
    "        outfile.write(\"*STATIC, RIKS\\n\")\n",
    "        outfile.write(\"{0},{1},{2},{3},{4},{5},{6},{7}\\n\".format(t_data[0], \\\n",
    "                      t_data[1], t_data[2], t_data[3], t_data[4], t_data[5], t_data[6], \\\n",
    "                      t_data[7]))        \n",
    "        #outfile.write(\"*STATIC\\n\")\n",
    "        #outfile.write(\"{0},{1},{2},{3}\\n\".format(t_data[0], t_data[1], t_data[2], t_data[3]))        \n",
    "        \n",
    "    else:\n",
    "        outfile.write(\"*STEP, name = {0}\\n\".format(buckstep))\n",
    "        outfile.write(\"*BUCKLE\\n\")\n",
    "        outfile.write(\"{0},\\n\".format(num_modes))\n",
    "    \n",
    "    # LOADS\n",
    "    \n",
    "    outfile.write(\"**\\n\")\n",
    "    outfile.write(\"** Loads\\n\")\n",
    "    outfile.write(\"**\\n\")\n",
    "    outfile.write(\"*Cload\\n\")\n",
    "    if typ == 'P' or  typ == 'I':\n",
    "        outfile.write(\"{0}, {1:2d}, {2:.3f}\\n\".format(num_e+1, 1, -np.abs(Lpb) ))\n",
    "    else:\n",
    "        outfile.write(\"{0}, {1:2d}, {2}\\n\".format(num_e+1, 1, -1. ))\n",
    "    \n",
    "    if typ == 'P' or typ == 'I':\n",
    "        #outfile.write(\"*OUTPUT,FIELD\\n\")\n",
    "        #outfile.write(\"*ELEMENT OUTPUT\\n\")\n",
    "        #outfile.write(\"S,COORD,\\n\")\n",
    "        #outfile.write(\"*EL PRINT\\n\")\n",
    "        #outfile.write(\" S,COORD,\\n\")\n",
    "        outfile.write(\"*OUTPUT,FIELD\\n\")\n",
    "        outfile.write(\"*NODE OUTPUT\\n\")\n",
    "        outfile.write(\"U,COORD\\n\")\n",
    "        outfile.write(\"*NODE PRINT\\n\")\n",
    "        outfile.write(\"U,COORD\\n\")\n",
    "        outfile.write(\"*OUTPUT,HISTORY,FREQUENCY={0}\\n\".format(inc))\n",
    "    else:\n",
    "        outfile.write(\"*NODE FILE, GLOBAL=YES, LAST MODE={0}\\n\".format(num_modes))\n",
    "        outfile.write(\"U,\\n\")\n",
    "    #outfile.write(\"*EL FILE, ELSET=PRINT, LAST MODE={0}\\n\".format(num_modes))\n",
    "    #outfile.write(\"ENER,\\n\")\n",
    "    #outfile.write(\"ELEN,\\n\")\n",
    "    outfile.write(\"*END STEP\\n\")\n",
    "\n",
    "    outfile.close()\n",
    "    \n",
    "    if not os.path.exists('../Lab06b_abaqus/'+basename+'/'):\n",
    "        os.makedirs('../Lab06b_abaqus/'+basename+'/')\n",
    "\n",
    "    shutil.move(filename,'../Lab06b_abaqus/'+basename+'/'+filename)\n",
    "    \n",
    "    if typ == 'I':\n",
    "        shutil.copy('../Lab06b_abaqus/'+impbasename+'/'+impbasename+'.fil', \\\n",
    "                    '../Lab06b_abaqus/'+basename+'/'+impbasename+'.fil')"
   ]
  },
  {
   "cell_type": "markdown",
   "metadata": {},
   "source": [
    "Set parameters for simulation:\n",
    "\n",
    "- *L, b, h* : cantilever dimensions\n",
    "- *eig_num* : maximum eigenvalue to be estimated\n",
    "- **E**, $\\nu$: elastic properties (Young modulus and Poisson ratio, as *TYPE* is by default **isotropic**)\n",
    "- *num_elems*: number of elements in **x** direction"
   ]
  },
  {
   "cell_type": "code",
   "execution_count": 79,
   "metadata": {
    "collapsed": false
   },
   "outputs": [],
   "source": [
    "L = 200. # lenght [mm]\n",
    "h = 15.  # height [mm]\n",
    "b = 1.5  # thickness [mm]\n",
    "\n",
    "\n",
    "eig_num = 10\n",
    "\n",
    "E = 72000. # modulus [MPa]\n",
    "ν = 0.33   # Poisson's coefficient\n",
    "\n",
    "# number of elements\n",
    "\n",
    "#num_elems = [1, 2, 4, 5, 10, 20, 25, 50, 100, 200]\n",
    "num_elems = [50]\n",
    "\n",
    "for ne in num_elems:\n",
    "    write_beam_inp_file(L, h, b, ne, E, ν, eig_num)"
   ]
  },
  {
   "cell_type": "code",
   "execution_count": 80,
   "metadata": {
    "collapsed": true
   },
   "outputs": [],
   "source": [
    "def generateCases(loc, prefix):\n",
    "    \"\"\"\n",
    "    generates all cases from specified root directory and starting with prefix\n",
    "    loc : root directory\n",
    "    \"\"\"\n",
    "    curr_dir = os.getcwd()\n",
    "    \n",
    "    if not loc.startswith(\"/\"):\n",
    "        #relativer path\n",
    "        base_dir = os.path.abspath(loc)\n",
    "    else:\n",
    "        base_dir = loc\n",
    "    \n",
    "    #print(curr_dir)\n",
    "    dirs = glob.glob(loc+\"/\"+prefix+\"*\")\n",
    "    \n",
    "    command = ['/usr/simulia/abaqus/Commands/abaqus']\n",
    "    \n",
    "    options = [['datacheck','interactive'],['interactive','continue']]\n",
    "    \n",
    "    for di in dirs:\n",
    "        test = di.split('/')[-1]\n",
    "        os.chdir(di)\n",
    "        job=\"j={0}\".format(test)\n",
    "        \n",
    "        for opt in options:\n",
    "            subprocess.call(command+[job]+opt)\n",
    "        \n",
    "        os.chdir(base_dir)\n",
    "        \n",
    "    os.chdir(curr_dir)"
   ]
  },
  {
   "cell_type": "markdown",
   "metadata": {},
   "source": [
    "# Generate Abaqus cases"
   ]
  },
  {
   "cell_type": "code",
   "execution_count": 81,
   "metadata": {
    "collapsed": false
   },
   "outputs": [],
   "source": [
    "generateCases(\"../Lab06b_abaqus/\",\"b2_\")"
   ]
  },
  {
   "cell_type": "markdown",
   "metadata": {
    "collapsed": false
   },
   "source": [
    "# Analytical solution:"
   ]
  },
  {
   "cell_type": "markdown",
   "metadata": {
    "collapsed": false
   },
   "source": [
    "$P_{cr}$ analytical relation:\n",
    "\n",
    "$P_{cr} = k^2 \\cdot \\frac{ \\pi^2 E I_{22}}{l_i^2}$\n",
    "\n",
    "where:\n",
    "- $k = 1 \\dotsc n$\n",
    "- $I_{22} = \\frac{1}{12} \\cdot hb^3$\n",
    "- $l_i = 2 \\cdot l$ for cantilever"
   ]
  },
  {
   "cell_type": "code",
   "execution_count": 82,
   "metadata": {
    "collapsed": false
   },
   "outputs": [
    {
     "name": "stdout",
     "output_type": "stream",
     "text": [
      "Pcr = \n",
      " 1 | 18.737\n",
      " 2 | 168.631\n",
      " 3 | 468.421\n",
      " 4 | 918.105\n",
      " 5 | 1517.683\n"
     ]
    }
   ],
   "source": [
    "eig_num_search = 5\n",
    "\n",
    "I22 = h*b**3/12\n",
    "\n",
    "Pcr = np.zeros(eig_num_search)\n",
    "\n",
    "for i in range(eig_num_search):\n",
    "    Pcr[i] = ((2*i+1)**2)/((2*L)**2)*(np.pi**2)*E*I22\n",
    "    \n",
    "    \n",
    "    \n",
    "print(\"Pcr = \")\n",
    "\n",
    "for i in range(eig_num_search):\n",
    "    print(\"{0:2d} | {1:.3f}\".format(i+1,Pcr[i]))\n"
   ]
  },
  {
   "cell_type": "markdown",
   "metadata": {},
   "source": [
    "# Simulations data"
   ]
  },
  {
   "cell_type": "code",
   "execution_count": 83,
   "metadata": {
    "collapsed": false
   },
   "outputs": [],
   "source": [
    "def readDataL06b(filename, num):\n",
    "    \n",
    "    file=open(filename,'r') \n",
    "    row = file.readlines()\n",
    "    \n",
    "    eig = np.ones(num)\n",
    "    \n",
    "    state = 0\n",
    "    \n",
    "    for line in row:\n",
    "        strlist = line.split()\n",
    "        if state == 0 and 'MODE' in strlist and 'NO' in strlist and 'EIGENVALUE' in strlist:\n",
    "            state = 1\n",
    "        if len(strlist) == 2 and state == 1:\n",
    "            try:\n",
    "                mode = int(strlist[0])\n",
    "                val = np.abs(float(strlist[1]))\n",
    "                if mode <= num:\n",
    "                    eig[mode-1] = val\n",
    "                else:\n",
    "                    break\n",
    "            except ValueError:\n",
    "                print(strlist)\n",
    "                print(\"String not recognized\")\n",
    "            \n",
    "    file.close()\n",
    "    return eig\n"
   ]
  },
  {
   "cell_type": "code",
   "execution_count": 84,
   "metadata": {
    "collapsed": false
   },
   "outputs": [],
   "source": [
    "dirs = glob.glob(\"../Lab06b_abaqus/b2_*\")\n",
    "\n",
    "beam_pcr = {}\n",
    "\n",
    "for di in dirs:\n",
    "    test = di.split('/')[-1]\n",
    "    a = readDataL06b(di+\"/\"+test+\".dat\",eig_num_search)\n",
    "    beam_pcr[int(test[5:8])] = a\n",
    "\n",
    "#print(beam_pcr)"
   ]
  },
  {
   "cell_type": "code",
   "execution_count": 85,
   "metadata": {
    "collapsed": false
   },
   "outputs": [
    {
     "name": "stdout",
     "output_type": "stream",
     "text": [
      "First critical load\n",
      "\n",
      "# elem |   Pcr\n",
      "----------------\n",
      "    50 | 18.738\n"
     ]
    },
    {
     "data": {
      "image/png": "[encoded data removed]",
      "text/plain": [
       "<matplotlib.figure.Figure at 0x7f6f41a2f4e0>"
      ]
     },
     "metadata": {},
     "output_type": "display_data"
    }
   ],
   "source": [
    "eig_num_plot = 2\n",
    "\n",
    "x = np.arange(1,eig_num_plot+1)\n",
    "\n",
    "plt.figure(figsize=(16,10), dpi=300)\n",
    "\n",
    "plt.plot(x,Pcr[:eig_num_plot], '^-', lw=3, ms=12, label='$P_{cr}$ analytical')\n",
    "\n",
    "print(\"First critical load\")\n",
    "print(\"\")\n",
    "print(\"# elem |   Pcr\")\n",
    "print(\"----------------\")\n",
    "\n",
    "for i, nel in enumerate(np.sort(list(beam_pcr.keys()))):\n",
    "    plt.plot(x,beam_pcr[nel][:eig_num_plot],'h-.', lw=2, ms=8, color=(0.0,(i+1)/len(beam_pcr),0.0), \\\n",
    "             label=\"$P_{cr} n_{el}$=\"+str(nel)  )\n",
    "    print(\"{0:6d} | {1:.3f}\".format(nel, beam_pcr[nel][0]))\n",
    "\n",
    "plt.xlim([0.5,eig_num_plot+0.5])\n",
    "plt.ylim([np.floor(Pcr[0]),np.ceil(Pcr[eig_num_plot-1])])\n",
    "plt.xticks(np.arange(1,eig_num_plot+.1))\n",
    "plt.yticks(np.arange(np.floor(Pcr[0]),np.ceil(Pcr[eig_num_plot-1])+.1,25))\n",
    "plt.title('Cantilever compression critical loads')\n",
    "plt.xlabel(r'mode')\n",
    "plt.ylabel(r'Critical load $[N]$')\n",
    "plt.legend(loc='lower right', shadow=True)\n",
    "plt.grid()\n",
    "plt.savefig('Lab06b.jpg')"
   ]
  },
  {
   "cell_type": "markdown",
   "metadata": {
    "collapsed": false
   },
   "source": [
    "# Post-Buckling analisys"
   ]
  },
  {
   "cell_type": "code",
   "execution_count": 86,
   "metadata": {
    "collapsed": false
   },
   "outputs": [],
   "source": [
    "P_Pcr = np.array([1., 1.015, 1.063, 1.152, 1.293, 1.518, 1.884, 2.541, 4.029, 9.116])\n",
    "xa_l = np.array([1., .970, .881, .741, .560, .349, .123, -0.107, -0.340, -0.577])\n",
    "ya_l = np.array([0., .220, .422, .593, .719, .792, .803, .750, .625, .421])\n",
    "#theta = np.arctan2(ya_l,xa_l)\n",
    "#print(np.rad2deg(theta))"
   ]
  },
  {
   "cell_type": "code",
   "execution_count": 87,
   "metadata": {
    "collapsed": false
   },
   "outputs": [],
   "source": [
    "for ne in num_elems:\n",
    "    write_beam_inp_file(L, h, b, ne, E, ν, 0, typ='P', inc=1000, Lpb = Pcr[0], \\\n",
    "                        t_data = [0.01,1.,1e-4,0.01,10.0,ne+1,1,(1-ya_l[-1])*L])"
   ]
  },
  {
   "cell_type": "markdown",
   "metadata": {},
   "source": [
    "## Generate Abaqus cases"
   ]
  },
  {
   "cell_type": "code",
   "execution_count": 88,
   "metadata": {
    "collapsed": true
   },
   "outputs": [],
   "source": [
    "generateCases(\"../Lab06b_abaqus/\",\"b3_\")"
   ]
  },
  {
   "cell_type": "markdown",
   "metadata": {},
   "source": [
    "## Generate Cases with imperfection"
   ]
  },
  {
   "cell_type": "code",
   "execution_count": 91,
   "metadata": {
    "collapsed": false
   },
   "outputs": [],
   "source": [
    "for ne in num_elems:\n",
    "    write_beam_inp_file(L, h, b, ne, E, ν, 0, typ='I', inc=100000, Lpb = Pcr[0], \\\n",
    "                        t_data = [0.1,1.,5e-3,0.1,100.0,ne+1,1,(1-ya_l[-1])*L])"
   ]
  },
  {
   "cell_type": "code",
   "execution_count": null,
   "metadata": {
    "collapsed": true
   },
   "outputs": [],
   "source": [
    "generateCases(\"../Lab06b_abaqus/\",\"b4_\")"
   ]
  },
  {
   "cell_type": "code",
   "execution_count": null,
   "metadata": {
    "collapsed": true
   },
   "outputs": [],
   "source": []
  }
 ],
 "metadata": {
  "kernelspec": {
   "display_name": "Python 3",
   "language": "python",
   "name": "python3"
  },
  "language_info": {
   "codemirror_mode": {
    "name": "ipython",
    "version": 3
   },
   "file_extension": ".py",
   "mimetype": "text/x-python",
   "name": "python",
   "nbconvert_exporter": "python",
   "pygments_lexer": "ipython3",
   "version": "3.4.3"
  }
 },
 "nbformat": 4,
 "nbformat_minor": 0
}
