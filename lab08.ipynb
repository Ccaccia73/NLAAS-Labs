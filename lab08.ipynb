{
 "cells": [
  {
   "cell_type": "code",
   "execution_count": 54,
   "metadata": {
    "collapsed": true
   },
   "outputs": [],
   "source": [
    "import numpy as np\n",
    "import os\n",
    "import glob\n",
    "import shutil\n",
    "import matplotlib.pyplot as plt\n",
    "import json\n",
    "import subprocess\n",
    "from matplotlib import rcParams\n",
    "rcParams['font.family'] = 'serif'\n",
    "rcParams['font.size'] = 20\n",
    "from IPython.display import Image\n",
    "%matplotlib inline"
   ]
  },
  {
   "cell_type": "markdown",
   "metadata": {},
   "source": [
    "# Lab 8: Buckling behavior under compression and shear"
   ]
  },
  {
   "cell_type": "markdown",
   "metadata": {},
   "source": [
    "Module for computations"
   ]
  },
  {
   "cell_type": "code",
   "execution_count": 55,
   "metadata": {
    "collapsed": true
   },
   "outputs": [],
   "source": [
    "import FEM_utilities as FEM"
   ]
  },
  {
   "cell_type": "markdown",
   "metadata": {},
   "source": [
    "## Write input file"
   ]
  },
  {
   "cell_type": "markdown",
   "metadata": {},
   "source": [
    "Set parameters for simulation:\n",
    "\n",
    "- *a*, *b*, *h*: geometry of plate\n",
    "- **nx**, **ny**, number of elements in *x* and *y* directions\n",
    "- **E**, $\\nu$: elastic properties (Young modulus and Poisson ratio, as *TYPE* is by default **isotropic**) \n",
    "- $\\gamma$: scale factor of $\\tau$ wrt $\\sigma$\n",
    "- *num_modes*: buckling modes to be computed (by default **1**)\n",
    "- *num_vects* number of vectors to be used (default 8: Abaqus default is min(n+8, $2\\cdot n$) )\n",
    "- *max_iter*: max number of iterations (default 200: Abaqus default is 30)\n",
    "\n",
    "Function *write_inp_file* defines:\n",
    "\n",
    "- *filename* : name of input file\n",
    "- *eltype* : type of shell element (see conventions [here](http://media.3ds.com/support/documentation/product/V6R2013/en/English/MpeUsbHtml/pt06ch29s06alm17.htm))\n",
    "- *matname*: name of material\n",
    "- *elname*: **\\*Elset** assigned name\n",
    "- *bc*, *load*: names for boundary condition, external and internal nodes loaded \n",
    "- *pa*, *pb*,*ax*, $\\alpha$: coordinate points, axis and angle used to define local coordinate system (see conventions [here](http://media.3ds.com/support/documentation/product/V6R2013/en/English/MpeKeyHtml/ch15abk01.htm#usb-kws-morientation)) \n",
    "- *intpoints*: shell integration points"
   ]
  },
  {
   "cell_type": "code",
   "execution_count": 56,
   "metadata": {
    "collapsed": false
   },
   "outputs": [],
   "source": [
    "def write_inp_file(a, b, h, nx, ny, E, ν, γ, num_modes=1, num_vects=8, max_iter=200):\n",
    "    \"\"\"\n",
    "    function to write inp file:\n",
    "    a        : lenght of plate\n",
    "    b        : height\n",
    "    h        : thickness\n",
    "    nx       : number of elements in x direction\n",
    "    ny       : number of elements in y direction\n",
    "    E        : Young's modulus\n",
    "    nu       : Poisson ratio\n",
    "    gamma    : tau = gamma*sigma\n",
    "    num_modes: number of eigenvalues to be estimated\n",
    "    num_vects: number of vectors used to estimate eigenvalues (default would be 2)\n",
    "    max_iter : max number of iterations (default would be 30, we set to 60)\n",
    "    \"\"\"\n",
    "    \n",
    "    elname = \"EALL\"\n",
    "    matname = \"mat1\"\n",
    "    \n",
    "    \n",
    "    bcs = [\"x0_nodes\", \"xL_nodes\", \"y0_nodes\", \"yW_nodes\", \"fixed\"]\n",
    "    \n",
    "    sx_ext = 'sx_ext'\n",
    "    sx_int = 'sx_int'\n",
    "    txy1_ext = 'txy_0_ext'\n",
    "    txy1_int = 'txy_0_int'\n",
    "    tyx1_ext = 'tyx_0_ext'\n",
    "    tyx1_int = 'tyx_0_int'\n",
    "    txy2_ext = 'txy_b_ext'\n",
    "    txy2_int = 'txy_b_int'\n",
    "    tyx2_ext = 'tyx_a_ext'\n",
    "    tyx2_int = 'tyx_a_int'\n",
    "    \n",
    "    tau = [txy1_ext, txy1_int, tyx1_ext, tyx1_int, txy2_ext, txy2_int, tyx2_ext, tyx2_int]\n",
    "    \n",
    "    pa = [1.0,0.0,0.0]\n",
    "    pb = [0.0,1.0,0.0]\n",
    "    # pc = [0.0,0.0,0.0]\n",
    "    ax = 3\n",
    "    α = 0.0\n",
    "    \n",
    "    intpoints = 5\n",
    "    \n",
    "    basename = 'cs_a'+str(int(a/100)).zfill(2)+'_nx'+str(nx).zfill(3)+'_ny'+str(ny).zfill(3)+\\\n",
    "    '_g'+str(int(γ*100)).zfill(3)\n",
    "\n",
    "    filename = basename+'.inp'\n",
    "    \n",
    "    outfile = open(filename, \"wt\")\n",
    "    \n",
    "    outfile.write(\"** Lab 07 input file - buckling of plate under biaxial load\\n\")\n",
    "        \n",
    "    nodes, elements, y0, yL, x0, xW = FEM.NodesLab07(nx, ny, a, b)\n",
    "    \n",
    "    bc_nodes = [y0, yL, x0, xW, [1]]\n",
    "    \n",
    "    tau_nodes = [ [y0[0],y0[-1]], y0[1:-1], [x0[0],x0[-1]], x0[1:-1], \\\n",
    "                  [yL[0],yL[-1]], yL[1:-1], [xW[0],xW[-1]], xW[1:-1] ]\n",
    "        \n",
    "    # NODES section\n",
    "    outfile.write(\"**\\n\")\n",
    "    outfile.write(\"** Nodes\\n\")\n",
    "    outfile.write(\"**\\n\")\n",
    "    outfile.write(\"*NODE, nset = nglobal\\n\")\n",
    "\n",
    "    for i in range(nodes.shape[0]):\n",
    "        nodestring = \"{0:4d}\".format(int(nodes[i,0]))\n",
    "        for j in range(1,nodes.shape[1]):\n",
    "            nodestring+=\",{0:8}\".format(nodes[i,j])\n",
    "        nodestring+=\"\\n\"\n",
    "        outfile.write(nodestring)\n",
    "        \n",
    "    # ELEMENTS section\n",
    "    outfile.write(\"**\\n\")\n",
    "    outfile.write(\"** Elements\\n\")\n",
    "    outfile.write(\"**\\n\")\n",
    "    outfile.write(\"*ELEMENT, type = S4R\\n\")\n",
    "    \n",
    "    for i in range(elements.shape[0]):\n",
    "        elstring = \"{0:4d}\".format(int(elements[i,0]))\n",
    "        for j in range(1,elements.shape[1]):\n",
    "            elstring+=\",{0:4d}\".format(int(elements[i,j]))\n",
    "        elstring+=\"\\n\"\n",
    "        outfile.write(elstring)\n",
    "\n",
    "    # MATERIAL section\n",
    "    outfile.write(\"**\\n\")\n",
    "    outfile.write(\"** Materials\\n\")\n",
    "    outfile.write(\"**\\n\")\n",
    "    outfile.write(\"*MATERIAL, name = {0}\\n\".format(matname))\n",
    "    outfile.write(\"*Elastic\\n\")\n",
    "    outfile.write(\"{0},{1:6}\\n\".format(E,ν))\n",
    "\n",
    "    # SETS section\n",
    "    # NODES\n",
    "    outfile.write(\"**\\n\")\n",
    "    outfile.write(\"** Sets\\n\")\n",
    "    outfile.write(\"**\\n\")\n",
    "    \n",
    "    for i, bc in enumerate(bcs):\n",
    "        outfile.write(\"*NSET, nset = {0}\\n\".format(bc))\n",
    "        \n",
    "        n_lines = np.ceil(len(bc_nodes[i])/16)\n",
    "        \n",
    "        for i_line in range(int(n_lines)):\n",
    "            bc_str = \"{0:4d}\".format(int(bc_nodes[i][16*i_line]))\n",
    "            \n",
    "            for j in range(16*i_line+1,min(len(bc_nodes[i]),16*(i_line+1)) ):\n",
    "                bc_str+=\",{0:4d}\".format(int(bc_nodes[i][j]))\n",
    "            bc_str+=\"\\n\"\n",
    "            outfile.write(bc_str)\n",
    "    \n",
    "    # loaded\n",
    "    \n",
    "    # SIGMA x\n",
    "    if len(yL > 2):\n",
    "        outfile.write(\"*Nset, nset = {0}\\n\".format(sx_int))\n",
    "        \n",
    "        yLint = yL[1:-1]\n",
    "        \n",
    "        n_lines = np.ceil(len(yLint)/16)\n",
    "        \n",
    "        for i_line in range(int(n_lines)):\n",
    "            il_str = \"{0:4d}\".format(int(yLint[16*i_line]))\n",
    "            for j in range(16*i_line+1,min(len(yLint),16*(i_line+1)) ):\n",
    "                il_str+=\",{0:4d}\".format(int(yLint[j]))\n",
    "            il_str+=\"\\n\"\n",
    "            outfile.write(il_str)\n",
    "    \n",
    "    outfile.write(\"*Nset, nset = {0}\\n\".format(sx_ext))\n",
    "    el_str = \"{0:4d},{1:4d}\\n\".format(int(yL[0]),int(yL[-1]))\n",
    "    outfile.write(el_str)\n",
    "    \n",
    "    # tau\n",
    "    \n",
    "    for i, t_act in enumerate(tau):\n",
    "        if i%2 == 0:\n",
    "            # external\n",
    "            outfile.write(\"*Nset, nset = {0}\\n\".format(t_act))\n",
    "            el_str = \"{0:4d},{1:4d}\\n\".format(int(tau_nodes[i][0]),int(tau_nodes[i][-1]))\n",
    "            outfile.write(el_str)\n",
    "        else:\n",
    "            # internal\n",
    "            outfile.write(\"*Nset, nset = {0}\\n\".format(t_act))\n",
    "            \n",
    "            n_lines = np.ceil(len(tau_nodes[i])/16)\n",
    "            \n",
    "            for i_line in range(int(n_lines)):\n",
    "                il_str = \"{0:4d}\".format(int(tau_nodes[i][16*i_line]))\n",
    "                for j in range(16*i_line+1,min(len(tau_nodes[i]),16*(i_line+1)) ):\n",
    "                    il_str+=\",{0:4d}\".format(int(tau_nodes[i][j]))\n",
    "                il_str+=\"\\n\"\n",
    "                outfile.write(il_str)\n",
    "    \n",
    "    \n",
    "    # ELEMENTS\n",
    "    outfile.write(\"*Elset, elset = {0}, generate\\n\".format(elname))\n",
    "    outfile.write(\"{0:4d},{1:4d},{2:4d}\\n\".format(1,elements.shape[0],1))\n",
    "    \n",
    "    # ORIENTATION\n",
    "    outfile.write(\"**\\n\")\n",
    "    outfile.write(\"** LOCAL ORIENTATION\\n\")\n",
    "    outfile.write(\"**\\n\")\n",
    "    outfile.write(\"*orientation, name = local_orientation\\n\")\n",
    "    outfile.write(\"\".join(str(pa+pb))[1:-1])\n",
    "    outfile.write(\"\\n\")\n",
    "    outfile.write(\"{0},{1:4}\\n\".format(ax,α))\n",
    "\n",
    "    # SHELL PROPERTIES\n",
    "    outfile.write(\"**\\n\")\n",
    "    outfile.write(\"** SHELL PROPERTIES\\n\")\n",
    "    outfile.write(\"**\\n\")\n",
    "    outfile.write(\"*Shell Section, elset = {0}, material = {1}, orientation = local_orientation\\n\" \\\n",
    "                  .format(elname,matname))\n",
    "    outfile.write(\"{0:4},{1:4d}\\n\".format(h,intpoints))\n",
    "    \n",
    "    # calculation steps\n",
    "    outfile.write(\"**\\n\")\n",
    "    outfile.write(\"** STEP\\n\")\n",
    "    outfile.write(\"**\\n\")\n",
    "        \n",
    "    \n",
    "    outfile.write(\"*STEP\\n\")\n",
    "    outfile.write(\"*BUCKLE\\n\")\n",
    "    outfile.write(\"{0},,,{1}\\n\".format(num_modes,max_iter))\n",
    "    \n",
    "    # BOUNDARY CONDITIONS\n",
    "    outfile.write(\"**\\n\")\n",
    "    outfile.write(\"** BOUNDARY CONDITIONS\\n\")\n",
    "    outfile.write(\"**\\n\")\n",
    "    outfile.write(\"*Boundary\\n\")\n",
    "    for bc in bcs:\n",
    "        outfile.write(\"{0}, 3\\n\".format(bc))\n",
    "    \n",
    "    outfile.write(\"{0}, 1\\n\".format(bcs[0]))\n",
    "    outfile.write(\"{0}, 1\\n\".format(bcs[4]))\n",
    "    outfile.write(\"{0}, 2\\n\".format(bcs[4]))\n",
    "    \n",
    "    # LOADS\n",
    "    outfile.write(\"**\\n\")\n",
    "    outfile.write(\"** LOADS\\n\")\n",
    "    outfile.write(\"**\\n\")\n",
    "    outfile.write(\"*Cload\\n\")\n",
    "    #outfile.write(\"{0}, {1:2d}, {2}\\n\".format(loadnodes, 2, -0.5 ))\n",
    "    if len(bcs[1]) > 2:\n",
    "        outfile.write(\"{0}, {1:2d}, {2}\\n\".format(sx_int, 1, -1.0*(b*h)/ny ))\n",
    "    outfile.write(\"{0}, {1:2d}, {2}\\n\".format(sx_ext, 1, -0.5*(b*h)/ny ))\n",
    "    \n",
    "    # tau\n",
    "    outfile.write(\"{0}, {1:2d}, {2}\\n\".format(txy1_int, 2, 1.0*(b*h)*γ/ny ))\n",
    "    outfile.write(\"{0}, {1:2d}, {2}\\n\".format(txy1_ext, 2, 0.5*(b*h)*γ/ny ))\n",
    "    outfile.write(\"{0}, {1:2d}, {2}\\n\".format(tyx1_int, 1, 1.0*(a*h)*γ/nx ))\n",
    "    outfile.write(\"{0}, {1:2d}, {2}\\n\".format(tyx1_ext, 1, 0.5*(a*h)*γ/nx ))\n",
    "    outfile.write(\"{0}, {1:2d}, {2}\\n\".format(txy2_int, 2, -1.0*(b*h)*γ/ny ))\n",
    "    outfile.write(\"{0}, {1:2d}, {2}\\n\".format(txy2_ext, 2, -0.5*(b*h)*γ/ny ))\n",
    "    outfile.write(\"{0}, {1:2d}, {2}\\n\".format(tyx2_int, 1, -1.0*(a*h)*γ/nx ))\n",
    "    outfile.write(\"{0}, {1:2d}, {2}\\n\".format(tyx2_ext, 1, -0.5*(a*h)*γ/nx ))\n",
    "\n",
    "    # Output\n",
    "    outfile.write(\"**\\n\")\n",
    "    outfile.write(\"** Output\\n\")\n",
    "    outfile.write(\"**\\n\")\n",
    "    outfile.write(\"*OUTPUT,FIELD\\n\")\n",
    "    outfile.write(\"*NODE OUTPUT\\n\")\n",
    "    outfile.write(\"U,COORD\\n\")\n",
    "    outfile.write(\"*NODE PRINT\\n\")\n",
    "    outfile.write(\"U,COORD\\n\")\n",
    "\n",
    "    outfile.write(\"*NODE FILE, LAST MODE={0}\\n\".format(num_modes))\n",
    "    outfile.write(\"U, RF\\n\")\n",
    "    #outfile.write(\"*EL FILE, ELSET=PRINT, LAST MODE={0}\\n\".format(num_modes))\n",
    "    #outfile.write(\"ENER,\\n\")\n",
    "    #outfile.write(\"ELEN,\\n\")\n",
    "    outfile.write(\"*END STEP\\n\")        \n",
    "    outfile.close()\n",
    "    \n",
    "    if not os.path.exists('../Lab08_abaqus/'+basename+'/'):\n",
    "        os.makedirs('../Lab08_abaqus/'+basename+'/')\n",
    "\n",
    "    shutil.move(filename,'../Lab08_abaqus/'+basename+'/'+filename)"
   ]
  },
  {
   "cell_type": "markdown",
   "metadata": {},
   "source": [
    "Parameters:"
   ]
  },
  {
   "cell_type": "code",
   "execution_count": 57,
   "metadata": {
    "collapsed": true
   },
   "outputs": [],
   "source": [
    "a_l = [600, 3600] # lenght [mm]\n",
    "b = 600.  # width  [mm]\n",
    "h = 1.5   # thickness [mm]\n"
   ]
  },
  {
   "cell_type": "markdown",
   "metadata": {},
   "source": [
    "Compute node coordinates, elements, constrained and loaded nodes"
   ]
  },
  {
   "cell_type": "code",
   "execution_count": 58,
   "metadata": {
    "collapsed": false
   },
   "outputs": [],
   "source": [
    "E = 72000. # modulus [MPa]\n",
    "ν = 0.33   # Poisson's coefficient\n",
    "\n",
    "nx = [[6,6,12,12,24,24],[18,36,36,72,72,144]]\n",
    "ny = [[6,12,12,24,24,48],[6,6,12,12,24,24]]\n",
    "\n",
    "#test many nodes\n",
    "#nx = [50,100]\n",
    "#ny = [50,50]\n",
    "\n",
    "# list of gammas\n",
    "γ_v = [0.0, 0.1, 0.25, 0.5, 0.75, 1.0, 2.0, 3.5, 5.0, 7.0, 9.0]\n",
    "\n",
    "#test\n",
    "#γ_v = [.5]\n",
    "\n",
    "\n",
    "if len(nx[0]) == len(ny[0]) and len(nx[1]) == len(ny[1]):\n",
    "    for i, a in enumerate(a_l):\n",
    "        for j in range(len(nx[i])):\n",
    "            for γ_act in γ_v:\n",
    "                write_inp_file(a, b, h, nx[i][j], ny[i][j], E, ν, γ_act)\n",
    "else:\n",
    "    print(\"nx and ny vector lenghts don't match\")"
   ]
  },
  {
   "cell_type": "code",
   "execution_count": 59,
   "metadata": {
    "collapsed": true
   },
   "outputs": [],
   "source": [
    "def generateCases(loc, prefix):\n",
    "    \"\"\"\n",
    "    generates all cases from specified root directory and starting with prefix\n",
    "    loc : root directory\n",
    "    \"\"\"\n",
    "    curr_dir = os.getcwd()\n",
    "    \n",
    "    if not loc.startswith(\"/\"):\n",
    "        #relativer path\n",
    "        base_dir = os.path.abspath(loc)\n",
    "    else:\n",
    "        base_dir = loc\n",
    "    \n",
    "    #print(curr_dir)\n",
    "    dirs = glob.glob(loc+\"/\"+prefix+\"*\")\n",
    "    \n",
    "    command = ['/usr/simulia/abaqus/Commands/abaqus']\n",
    "    \n",
    "    options = [['datacheck','interactive'],['interactive','continue']]\n",
    "    \n",
    "    for di in dirs:\n",
    "        test = di.split('/')[-1]\n",
    "        os.chdir(di)\n",
    "        job=\"j={0}\".format(test)\n",
    "        \n",
    "        for opt in options:\n",
    "            subprocess.call(command+[job]+opt)\n",
    "        \n",
    "        os.chdir(base_dir)\n",
    "        \n",
    "    os.chdir(curr_dir)"
   ]
  },
  {
   "cell_type": "markdown",
   "metadata": {},
   "source": [
    "##Generate Abaqus cases"
   ]
  },
  {
   "cell_type": "code",
   "execution_count": 60,
   "metadata": {
    "collapsed": false
   },
   "outputs": [],
   "source": [
    "generateCases(\"../Lab08_abaqus/\",\"cs_\")"
   ]
  },
  {
   "cell_type": "markdown",
   "metadata": {
    "collapsed": false
   },
   "source": [
    "## Analytical solution:"
   ]
  },
  {
   "cell_type": "markdown",
   "metadata": {
    "collapsed": false
   },
   "source": [
    "**Compression: ** $\\sigma_{cr}$\n",
    "\n",
    "$\\sigma_{cr,compr} = 4 \\cdot \\frac{D}{h}\\left( \\frac{\\pi}{b} \\right)^2$\n",
    "\n",
    "**Shear: ** $\\tau_{cr}$\n",
    "\n",
    "$\\tau_{cr,shear} = 4 \\sqrt{2} \\cdot \\frac{D}{h}\\left( \\frac{\\pi}{b} \\right)^2$\n",
    "\n",
    "**Critical region**:\n",
    "\n",
    "$\\left( \\frac{\\tau_{cr}}{\\tau_{cr,shear}} \\right)^2 + \\frac{\\sigma_{cr}}{\\sigma_{cr,compr}} = 1$\n",
    "\n",
    "with:\n",
    "\n",
    "$\\tau = \\gamma \\cdot \\sigma$\n",
    "\n",
    "$D = \\frac{E h^3}{12\\left(1-\\nu^2\\right)}$\n"
   ]
  },
  {
   "cell_type": "code",
   "execution_count": 61,
   "metadata": {
    "collapsed": false
   },
   "outputs": [],
   "source": [
    "D = E*h**3/(12*(1-ν**2))\n",
    "\n",
    "\n",
    "σ_cr = 4*D/h*(np.pi/b)**2\n",
    "τ_cr = 4*np.sqrt(2)*D/h*(np.pi/b)**2\n",
    "\n",
    "γ_a = np.linspace(0.0,100.0, 5000)\n",
    "\n",
    "γ_a = γ_a**2\n",
    "\n",
    "σ = np.zeros_like(γ_a)\n",
    "\n",
    "for i, γ in enumerate(γ_a[1:]):\n",
    "    σ[i+1] = (-1+np.sqrt(1+2*γ**2))/(γ**2)*σ_cr\n",
    "\n",
    "σ[0] = σ_cr\n",
    "τ = γ_a*σ\n"
   ]
  },
  {
   "cell_type": "markdown",
   "metadata": {},
   "source": [
    "#Simulations Data"
   ]
  },
  {
   "cell_type": "code",
   "execution_count": 62,
   "metadata": {
    "collapsed": false
   },
   "outputs": [],
   "source": [
    "def readDataL08(filename):\n",
    "    \n",
    "    eig = -1.0\n",
    "    \n",
    "    try:\n",
    "        file=open(filename,'r') \n",
    "    except IOError:\n",
    "        print('cannot open', filename)\n",
    "    else:\n",
    "        row = file.readlines()\n",
    "        \n",
    "        state = 0\n",
    "        \n",
    "        for line in row:\n",
    "            strlist = line.split()\n",
    "            if len(strlist) == 3:\n",
    "                if strlist[0] == 'MODE' and strlist[1] == 'NO' and strlist[2] == 'EIGENVALUE':\n",
    "                    state = 1\n",
    "            if len(strlist) == 2 and state == 1:\n",
    "                if strlist[0] == '1':\n",
    "                    eig = np.abs(float(strlist[1]))\n",
    "                    break\n",
    "        file.close()\n",
    "    return eig\n"
   ]
  },
  {
   "cell_type": "code",
   "execution_count": 63,
   "metadata": {
    "collapsed": false,
    "scrolled": true
   },
   "outputs": [],
   "source": [
    "dirs = glob.glob(\"../Lab08_abaqus/cs_*\")\n",
    "\n",
    "cs_eig = {}\n",
    "\n",
    "\n",
    "for di in dirs:\n",
    "    test = di.split('/')[-1]\n",
    "    a = readDataL08(di+\"/\"+test+\".dat\")\n",
    "    if a != -1.0:\n",
    "        if test[3:18] not in cs_eig:\n",
    "            cs_eig[test[3:18]] = [[],[]]\n",
    "        cs_eig[test[3:18]][0].append(a)\n",
    "        cs_eig[test[3:18]][1].append(a*float(test[-3:])/100)"
   ]
  },
  {
   "cell_type": "code",
   "execution_count": 64,
   "metadata": {
    "collapsed": false
   },
   "outputs": [
    {
     "data": {
      "image/png": "[encoded data removed]",
      "text/plain": [
       "<matplotlib.figure.Figure at 0x7fd5fca30a90>"
      ]
     },
     "metadata": {},
     "output_type": "display_data"
    }
   ],
   "source": [
    "act_a = a_l[0]\n",
    "\n",
    "plt.figure(figsize=(16,10), dpi=300)\n",
    "plt.plot(σ, τ,lw=3., label='analytical')\n",
    "\n",
    "for act_test in cs_eig:\n",
    "    if int(act_test[1:3])*100 == act_a:\n",
    "        lb = r'$n_x=$'+str(int(act_test[6:9]))+' $n_y=$'+str(int(act_test[12:15]))\n",
    "        plt.plot(cs_eig[act_test][0],cs_eig[act_test][1],'h',ms=8,label=lb)\n",
    "\n",
    "#plt.xlim([0.,4])\n",
    "#plt.ylim([0.0,1.6])\n",
    "#plt.xticks(np.arange(0.,4.1,0.5))\n",
    "#plt.yticks(np.arange(0.0,1.61,.2))\n",
    "plt.title('Buckling behavior under compression and shear - a='+str(act_a)+'mm', fontsize=16, fontweight='bold')\n",
    "plt.xlabel(r'$\\sigma \\ [MPa]$', fontsize=16)\n",
    "plt.ylabel(r'$\\tau \\ [MPa]$', fontsize=16)\n",
    "plt.legend(loc='upper right', shadow=True)\n",
    "plt.grid()\n",
    "plt.savefig('Lab08_'+str(act_a)+'.jpg');"
   ]
  },
  {
   "cell_type": "code",
   "execution_count": 65,
   "metadata": {
    "collapsed": false
   },
   "outputs": [
    {
     "data": {
      "image/png": "[encoded data removed]",
      "text/plain": [
       "<matplotlib.figure.Figure at 0x7fd61c78b7f0>"
      ]
     },
     "metadata": {},
     "output_type": "display_data"
    }
   ],
   "source": [
    "act_a = a_l[1]\n",
    "\n",
    "plt.figure(figsize=(16,10), dpi=300)\n",
    "plt.plot(σ, τ,lw=3., label='analytical')\n",
    "\n",
    "for act_test in cs_eig:\n",
    "    if int(act_test[1:3])*100 == act_a:\n",
    "        lb = r'$n_x=$'+str(int(act_test[6:9]))+' $n_y=$'+str(int(act_test[12:15]))\n",
    "        plt.plot(cs_eig[act_test][0],cs_eig[act_test][1],'h',ms=8,label=lb)\n",
    "\n",
    "#plt.xlim([0.,4])\n",
    "#plt.ylim([0.0,1.6])\n",
    "#plt.xticks(np.arange(0.,4.1,0.5))\n",
    "#plt.yticks(np.arange(0.0,1.61,.2))\n",
    "plt.title('Buckling behavior under compression and shear - a='+str(act_a)+'mm', fontsize=16, fontweight='bold')\n",
    "plt.xlabel(r'$\\sigma \\ [MPa]$', fontsize=16)\n",
    "plt.ylabel(r'$\\tau \\ [MPa]$', fontsize=16)\n",
    "plt.legend(loc='upper right', shadow=True)\n",
    "plt.grid()\n",
    "plt.savefig('Lab08_'+str(act_a)+'.jpg');"
   ]
  },
  {
   "cell_type": "code",
   "execution_count": null,
   "metadata": {
    "collapsed": true
   },
   "outputs": [],
   "source": []
  }
 ],
 "metadata": {
  "kernelspec": {
   "display_name": "Python 3",
   "language": "python",
   "name": "python3"
  },
  "language_info": {
   "codemirror_mode": {
    "name": "ipython",
    "version": 3
   },
   "file_extension": ".py",
   "mimetype": "text/x-python",
   "name": "python",
   "nbconvert_exporter": "python",
   "pygments_lexer": "ipython3",
   "version": "3.4.3"
  }
 },
 "nbformat": 4,
 "nbformat_minor": 0
}
