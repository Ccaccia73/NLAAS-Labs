{
 "cells": [
  {
   "cell_type": "code",
   "execution_count": 26,
   "metadata": {
    "collapsed": true
   },
   "outputs": [],
   "source": [
    "import numpy as np\n",
    "import matplotlib.pyplot as plt\n",
    "import json\n",
    "from matplotlib import rcParams\n",
    "rcParams['font.family'] = 'serif'\n",
    "rcParams['font.size'] = 14"
   ]
  },
  {
   "cell_type": "markdown",
   "metadata": {},
   "source": [
    "Module for computations"
   ]
  },
  {
   "cell_type": "code",
   "execution_count": 27,
   "metadata": {
    "collapsed": true
   },
   "outputs": [],
   "source": [
    "import FEM_utilities as FEM"
   ]
  },
  {
   "cell_type": "markdown",
   "metadata": {},
   "source": [
    "Parameters:"
   ]
  },
  {
   "cell_type": "code",
   "execution_count": 28,
   "metadata": {
    "collapsed": true
   },
   "outputs": [],
   "source": [
    "a = 1000. # lenght [mm]\n",
    "b = 200.  # width  [mm]\n",
    "t = 1.5   # thickness [mm]\n",
    "\n",
    "E = 72000. # modulus [MPa]\n",
    "ν = 0.33   # Poisson's coefficient\n",
    "\n",
    "F = 0.02   # load [N/mm]"
   ]
  },
  {
   "cell_type": "markdown",
   "metadata": {},
   "source": [
    "Compute node coordinates, elements, constrained and loaded nodes"
   ]
  },
  {
   "cell_type": "code",
   "execution_count": 29,
   "metadata": {
    "collapsed": false
   },
   "outputs": [],
   "source": [
    "nx = 4\n",
    "ny = 4\n",
    "\n",
    "nodes, elements, constrained, loaded = FEM.Nodes(nx, ny, a, b)"
   ]
  },
  {
   "cell_type": "code",
   "execution_count": 30,
   "metadata": {
    "collapsed": false
   },
   "outputs": [
    {
     "data": {
      "text/plain": [
       "array([[    1.,     0.,     0.,     0.],\n",
       "       [    2.,   250.,     0.,     0.],\n",
       "       [    3.,   500.,     0.,     0.],\n",
       "       [    4.,   750.,     0.,     0.],\n",
       "       [    5.,  1000.,     0.,     0.],\n",
       "       [    6.,     0.,    50.,     0.],\n",
       "       [    7.,   250.,    50.,     0.],\n",
       "       [    8.,   500.,    50.,     0.],\n",
       "       [    9.,   750.,    50.,     0.],\n",
       "       [   10.,  1000.,    50.,     0.],\n",
       "       [   11.,     0.,   100.,     0.],\n",
       "       [   12.,   250.,   100.,     0.],\n",
       "       [   13.,   500.,   100.,     0.],\n",
       "       [   14.,   750.,   100.,     0.],\n",
       "       [   15.,  1000.,   100.,     0.],\n",
       "       [   16.,     0.,   150.,     0.],\n",
       "       [   17.,   250.,   150.,     0.],\n",
       "       [   18.,   500.,   150.,     0.],\n",
       "       [   19.,   750.,   150.,     0.],\n",
       "       [   20.,  1000.,   150.,     0.],\n",
       "       [   21.,     0.,   200.,     0.],\n",
       "       [   22.,   250.,   200.,     0.],\n",
       "       [   23.,   500.,   200.,     0.],\n",
       "       [   24.,   750.,   200.,     0.],\n",
       "       [   25.,  1000.,   200.,     0.]])"
      ]
     },
     "execution_count": 30,
     "metadata": {},
     "output_type": "execute_result"
    }
   ],
   "source": [
    "nodes"
   ]
  },
  {
   "cell_type": "code",
   "execution_count": 31,
   "metadata": {
    "collapsed": false
   },
   "outputs": [
    {
     "data": {
      "text/plain": [
       "array([[  1.,   1.,   2.,   7.,   6.],\n",
       "       [  2.,   2.,   3.,   8.,   7.],\n",
       "       [  3.,   3.,   4.,   9.,   8.],\n",
       "       [  4.,   4.,   5.,  10.,   9.],\n",
       "       [  5.,   6.,   7.,  12.,  11.],\n",
       "       [  6.,   7.,   8.,  13.,  12.],\n",
       "       [  7.,   8.,   9.,  14.,  13.],\n",
       "       [  8.,   9.,  10.,  15.,  14.],\n",
       "       [  9.,  11.,  12.,  17.,  16.],\n",
       "       [ 10.,  12.,  13.,  18.,  17.],\n",
       "       [ 11.,  13.,  14.,  19.,  18.],\n",
       "       [ 12.,  14.,  15.,  20.,  19.],\n",
       "       [ 13.,  16.,  17.,  22.,  21.],\n",
       "       [ 14.,  17.,  18.,  23.,  22.],\n",
       "       [ 15.,  18.,  19.,  24.,  23.],\n",
       "       [ 16.,  19.,  20.,  25.,  24.]])"
      ]
     },
     "execution_count": 31,
     "metadata": {},
     "output_type": "execute_result"
    }
   ],
   "source": [
    "elements"
   ]
  },
  {
   "cell_type": "code",
   "execution_count": 32,
   "metadata": {
    "collapsed": false
   },
   "outputs": [
    {
     "data": {
      "text/plain": [
       "array([ 1,  6, 11, 16, 21])"
      ]
     },
     "execution_count": 32,
     "metadata": {},
     "output_type": "execute_result"
    }
   ],
   "source": [
    "constrained"
   ]
  },
  {
   "cell_type": "code",
   "execution_count": 33,
   "metadata": {
    "collapsed": false
   },
   "outputs": [
    {
     "data": {
      "text/plain": [
       "array([ 5, 10, 15, 20, 25])"
      ]
     },
     "execution_count": 33,
     "metadata": {},
     "output_type": "execute_result"
    }
   ],
   "source": [
    "loaded"
   ]
  },
  {
   "cell_type": "markdown",
   "metadata": {},
   "source": [
    "## Write input file"
   ]
  },
  {
   "cell_type": "code",
   "execution_count": 43,
   "metadata": {
    "collapsed": true
   },
   "outputs": [],
   "source": [
    "filename = 'test.inp'\n",
    "\n",
    "elementtype = 's4r'"
   ]
  },
  {
   "cell_type": "code",
   "execution_count": 65,
   "metadata": {
    "collapsed": false
   },
   "outputs": [
    {
     "ename": "TypeError",
     "evalue": "must be str, not generator",
     "output_type": "error",
     "traceback": [
      "\u001b[1;31m---------------------------------------------------------------------------\u001b[0m",
      "\u001b[1;31mTypeError\u001b[0m                                 Traceback (most recent call last)",
      "\u001b[1;32m<ipython-input-65-87b5487460f9>\u001b[0m in \u001b[0;36m<module>\u001b[1;34m()\u001b[0m\n\u001b[0;32m     13\u001b[0m \u001b[0moutfile\u001b[0m\u001b[1;33m.\u001b[0m\u001b[0mwrite\u001b[0m\u001b[1;33m(\u001b[0m\u001b[1;34m\"**\\n\"\u001b[0m\u001b[1;33m)\u001b[0m\u001b[1;33m\u001b[0m\u001b[0m\n\u001b[0;32m     14\u001b[0m \u001b[0moutfile\u001b[0m\u001b[1;33m.\u001b[0m\u001b[0mwrite\u001b[0m\u001b[1;33m(\u001b[0m\u001b[1;34m\"*Element, type = {0}\\n\"\u001b[0m\u001b[1;33m.\u001b[0m\u001b[0mformat\u001b[0m\u001b[1;33m(\u001b[0m\u001b[0melementtype\u001b[0m\u001b[1;33m)\u001b[0m\u001b[1;33m)\u001b[0m\u001b[1;33m\u001b[0m\u001b[0m\n\u001b[1;32m---> 15\u001b[1;33m \u001b[1;33m[\u001b[0m\u001b[0moutfile\u001b[0m\u001b[1;33m.\u001b[0m\u001b[0mwrite\u001b[0m\u001b[1;33m(\u001b[0m\u001b[1;34m\"{0:4d},{1:4d},{2:4d},{3:4d},{4:4d}\\n\"\u001b[0m\u001b[1;33m.\u001b[0m\u001b[0mformat\u001b[0m\u001b[1;33m(\u001b[0m\u001b[1;33m*\u001b[0m\u001b[1;33m[\u001b[0m\u001b[0melements\u001b[0m\u001b[1;33m[\u001b[0m\u001b[0mi\u001b[0m\u001b[1;33m,\u001b[0m\u001b[0mj\u001b[0m\u001b[1;33m]\u001b[0m \u001b[1;32mfor\u001b[0m \u001b[0mj\u001b[0m \u001b[1;32min\u001b[0m \u001b[0mrange\u001b[0m\u001b[1;33m(\u001b[0m\u001b[0melements\u001b[0m\u001b[1;33m.\u001b[0m\u001b[0mshape\u001b[0m\u001b[1;33m[\u001b[0m\u001b[1;36m1\u001b[0m\u001b[1;33m]\u001b[0m\u001b[1;33m)\u001b[0m\u001b[1;33m]\u001b[0m\u001b[1;33m)\u001b[0m  \u001b[1;32mfor\u001b[0m \u001b[0mi\u001b[0m \u001b[1;32min\u001b[0m \u001b[0mrange\u001b[0m\u001b[1;33m(\u001b[0m\u001b[0melements\u001b[0m\u001b[1;33m.\u001b[0m\u001b[0mshape\u001b[0m\u001b[1;33m[\u001b[0m\u001b[1;36m0\u001b[0m\u001b[1;33m]\u001b[0m\u001b[1;33m)\u001b[0m \u001b[1;33m)\u001b[0m\u001b[1;33m]\u001b[0m\u001b[1;33m\u001b[0m\u001b[0m\n\u001b[0m\u001b[0;32m     16\u001b[0m \u001b[0moutfile\u001b[0m\u001b[1;33m.\u001b[0m\u001b[0mclose\u001b[0m\u001b[1;33m(\u001b[0m\u001b[1;33m)\u001b[0m\u001b[1;33m\u001b[0m\u001b[0m\n",
      "\u001b[1;31mTypeError\u001b[0m: must be str, not generator"
     ]
    }
   ],
   "source": [
    "outfile = open(filename, \"wt\")\n",
    "\n",
    "outfile.write(\"** Lab 02 input file test\\n\")\n",
    "\n",
    "outfile.write(\"**\\n\")\n",
    "outfile.write(\"** NODES\\n\")\n",
    "outfile.write(\"**\\n\")\n",
    "outfile.write(\"*Node, nset = nglobal\\n\")\n",
    "[outfile.write(\"{0:4d},{1:8},{2:8},{3:5}\\n\".format(int(nodes[i,0]),nodes[i,1], nodes[i,2], nodes[i,3])) \\\n",
    " for i in range(nodes.shape[0])]\n",
    "\n",
    "outfile.write(\"**\\n\")\n",
    "outfile.write(\"** ELEMENTS\\n\")\n",
    "outfile.write(\"**\\n\")\n",
    "outfile.write(\"*Element, type = {0}\\n\".format(elementtype))\n",
    "[outfile.write(\"{0:4d},{1:4d},{2:4d},{3:4d},{4:4d}\\n\".format(*([elements[i,j]) for j in range(elements.shape[1])]) \\\n",
    " for i in range(elements.shape[0]) )]\n",
    "outfile.close()\n"
   ]
  },
  {
   "cell_type": "code",
   "execution_count": 61,
   "metadata": {
    "collapsed": false
   },
   "outputs": [
    {
     "data": {
      "text/plain": [
       "'1,1'"
      ]
     },
     "execution_count": 61,
     "metadata": {},
     "output_type": "execute_result"
    }
   ],
   "source": [
    "\"{0},{1}\".format(*[int(elements[0,j]) for j in range(2)])"
   ]
  },
  {
   "cell_type": "code",
   "execution_count": 50,
   "metadata": {
    "collapsed": false
   },
   "outputs": [
    {
     "data": {
      "text/plain": [
       "[1, 1, 2, 7, 6]"
      ]
     },
     "execution_count": 50,
     "metadata": {},
     "output_type": "execute_result"
    }
   ],
   "source": []
  },
  {
   "cell_type": "code",
   "execution_count": null,
   "metadata": {
    "collapsed": true
   },
   "outputs": [],
   "source": []
  }
 ],
 "metadata": {
  "kernelspec": {
   "display_name": "Python 3",
   "language": "python",
   "name": "python3"
  },
  "language_info": {
   "codemirror_mode": {
    "name": "ipython",
    "version": 3
   },
   "file_extension": ".py",
   "mimetype": "text/x-python",
   "name": "python",
   "nbconvert_exporter": "python",
   "pygments_lexer": "ipython3",
   "version": "3.4.3"
  }
 },
 "nbformat": 4,
 "nbformat_minor": 0
}
