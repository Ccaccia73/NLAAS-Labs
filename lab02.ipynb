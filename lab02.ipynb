{
 "cells": [
  {
   "cell_type": "code",
   "execution_count": 102,
   "metadata": {
    "collapsed": true
   },
   "outputs": [],
   "source": [
    "import numpy as np\n",
    "import shutil\n",
    "import matplotlib.pyplot as plt\n",
    "import json\n",
    "from matplotlib import rcParams\n",
    "rcParams['font.family'] = 'serif'\n",
    "rcParams['font.size'] = 14\n",
    "from IPython.display import Image"
   ]
  },
  {
   "cell_type": "markdown",
   "metadata": {},
   "source": [
    "Module for computations"
   ]
  },
  {
   "cell_type": "code",
   "execution_count": 103,
   "metadata": {
    "collapsed": true
   },
   "outputs": [],
   "source": [
    "import FEM_utilities as FEM"
   ]
  },
  {
   "cell_type": "markdown",
   "metadata": {},
   "source": [
    "Parameters:"
   ]
  },
  {
   "cell_type": "code",
   "execution_count": 104,
   "metadata": {
    "collapsed": true
   },
   "outputs": [],
   "source": [
    "a = 1000. # lenght [mm]\n",
    "b = 200.  # width  [mm]\n",
    "t = 1.5   # thickness [mm]\n"
   ]
  },
  {
   "cell_type": "markdown",
   "metadata": {},
   "source": [
    "Compute node coordinates, elements, constrained and loaded nodes"
   ]
  },
  {
   "cell_type": "code",
   "execution_count": 105,
   "metadata": {
    "collapsed": false
   },
   "outputs": [],
   "source": [
    "nx = 5\n",
    "ny = 5\n",
    "\n",
    "nodes, elements, fixed, loaded = FEM.Nodes(nx, ny, a, b)"
   ]
  },
  {
   "cell_type": "code",
   "execution_count": 106,
   "metadata": {
    "collapsed": false
   },
   "outputs": [],
   "source": [
    "#nodes"
   ]
  },
  {
   "cell_type": "code",
   "execution_count": 107,
   "metadata": {
    "collapsed": false
   },
   "outputs": [],
   "source": [
    "#elements"
   ]
  },
  {
   "cell_type": "code",
   "execution_count": 108,
   "metadata": {
    "collapsed": false
   },
   "outputs": [],
   "source": [
    "#fixed"
   ]
  },
  {
   "cell_type": "code",
   "execution_count": 109,
   "metadata": {
    "collapsed": false
   },
   "outputs": [],
   "source": [
    "#loaded"
   ]
  },
  {
   "cell_type": "markdown",
   "metadata": {},
   "source": [
    "## Write input file"
   ]
  },
  {
   "cell_type": "markdown",
   "metadata": {},
   "source": [
    "Set parameters for simulation:\n",
    "\n",
    "- *filename* : name of input file\n",
    "- *eltype* : type of shell element (see conventions [here](http://media.3ds.com/support/documentation/product/V6R2013/en/English/MpeUsbHtml/pt06ch29s06alm17.htm))\n",
    "- *matname*: name of material\n",
    "- **E**, $\\nu$: elastic properties (Young modulus and Poisson ratio, as *TYPE* is by default **isotropic**) \n",
    "- *elname*: **\\*Elset** assigned name\n",
    "- *bcname*, *loadextname*, *loadintname*: names for boundary condition, external and internal nodes loaded \n",
    "- *pa*, *pb*,*ax*, $\\alpha$: coordinate points, axis and angle used to define local coordinate system (see conventions [here](http://media.3ds.com/support/documentation/product/V6R2013/en/English/MpeKeyHtml/ch15abk01.htm#usb-kws-morientation)) \n",
    "- *intpoints*: shell integration points\n",
    "- *F*: force at tip of plate [N/mm]"
   ]
  },
  {
   "cell_type": "code",
   "execution_count": 110,
   "metadata": {
    "collapsed": false
   },
   "outputs": [],
   "source": [
    "filename = 'test_'+str(nx)+'x'+str(ny)+'y.inp'\n",
    "\n",
    "eltype = 'S4R' #'SC8R'\n",
    "\n",
    "matname = 'material_1'\n",
    "\n",
    "E = 72000. # modulus [MPa]\n",
    "ν = 0.33   # Poisson's coefficient\n",
    "\n",
    "elname = 'plate_1'\n",
    "\n",
    "bcname = 'fixed_nodes'\n",
    "loadextnodes = 'loaded_nodes_external'\n",
    "loadintnodes = 'loaded_nodes_internal'\n",
    "\n",
    "pa = [1.0,0.0,0.0]\n",
    "pb = [0.0,1.0,0.0]\n",
    "# pc = [0.0,0.0,0.0]\n",
    "ax = 3\n",
    "α = 0.0\n",
    "\n",
    "intpoints = 5\n",
    "\n",
    "F = 0.02   # load [N/mm]"
   ]
  },
  {
   "cell_type": "code",
   "execution_count": 111,
   "metadata": {
    "collapsed": false
   },
   "outputs": [],
   "source": [
    "outfile = open(filename, \"wt\")\n",
    "\n",
    "outfile.write(\"** Lab 02 input file test\\n\")\n",
    "\n",
    "# NODES section\n",
    "\n",
    "outfile.write(\"**\\n\")\n",
    "outfile.write(\"** NODES\\n\")\n",
    "outfile.write(\"**\\n\")\n",
    "outfile.write(\"*Node, nset = nglobal\\n\")\n",
    "\n",
    "for i in range(nodes.shape[0]):\n",
    "    nodestring = \"{0:4d}\".format(int(nodes[i,0]))\n",
    "    for j in range(1,nodes.shape[1]):\n",
    "        nodestring+=\",{0:8}\".format(nodes[i,j])\n",
    "    nodestring+=\"\\n\"\n",
    "    outfile.write(nodestring)\n",
    "\n",
    "# ELEMENTS section\n",
    "    \n",
    "outfile.write(\"**\\n\")\n",
    "outfile.write(\"** ELEMENTS\\n\")\n",
    "outfile.write(\"**\\n\")\n",
    "outfile.write(\"*Element, type = {0}\\n\".format(eltype))\n",
    "\n",
    "for i in range(elements.shape[0]):\n",
    "    elstring = \"{0:4d}\".format(int(elements[i,0]))\n",
    "    for j in range(1,elements.shape[1]):\n",
    "        elstring+=\",{0:4d}\".format(int(elements[i,j]))\n",
    "    elstring+=\"\\n\"\n",
    "    outfile.write(elstring)\n",
    "\n",
    "# MATERIAL section\n",
    "\n",
    "outfile.write(\"**\\n\")\n",
    "outfile.write(\"** MATERIALS\\n\")\n",
    "outfile.write(\"**\\n\")\n",
    "outfile.write(\"*Material, name = {0}\\n\".format(matname))\n",
    "outfile.write(\"*Elastic\\n\")\n",
    "outfile.write(\"{0},{1:6}\\n\".format(E,ν))\n",
    "\n",
    "# SETS section\n",
    "# NODES\n",
    "\n",
    "outfile.write(\"**\\n\")\n",
    "outfile.write(\"** SETS\\n\")\n",
    "outfile.write(\"**\\n\")\n",
    "outfile.write(\"*Nset, nset = {0}\\n\".format(bcname))\n",
    "\n",
    "fix_str = \"{0:4d}\".format(int(fixed[0]))\n",
    "\n",
    "for i in range(1,len(fixed)):\n",
    "    fix_str+=\",{0:4d}\".format(int(fixed[i]))\n",
    "fix_str+=\"\\n\"\n",
    "outfile.write(fix_str)\n",
    "\n",
    "if len(loaded > 2):\n",
    "    outfile.write(\"*Nset, nset = {0}\\n\".format(loadintnodes))\n",
    "    il_str = \"{0:4d}\".format(int(loaded[1]))\n",
    "    for i in range(2,len(loaded)-1):\n",
    "        il_str+=\",{0:4d}\".format(int(loaded[i]))\n",
    "    il_str+=\"\\n\"\n",
    "    outfile.write(il_str)\n",
    "    \n",
    "outfile.write(\"*Nset, nset = {0}\\n\".format(loadextnodes))\n",
    "el_str = \"{0:4d},{1:4d}\\n\".format(int(loaded[0]),int(loaded[-1]))\n",
    "outfile.write(el_str)\n",
    "\n",
    "# ELEMENTS\n",
    "outfile.write(\"*Elset, elset = {0}, generate\\n\".format(elname))\n",
    "outfile.write(\"{0:4d},{1:4d},{2:4d}\\n\".format(1,elements.shape[0],1))\n",
    "\n",
    "# ORIENTATION\n",
    "\n",
    "outfile.write(\"**\\n\")\n",
    "outfile.write(\"** LOCAL ORIENTATION\\n\")\n",
    "outfile.write(\"**\\n\")\n",
    "outfile.write(\"*orientation, name = local_orientation\\n\")\n",
    "outfile.write(\"\".join(str(pa+pb))[1:-1])\n",
    "outfile.write(\"\\n\")\n",
    "outfile.write(\"{0},{1:4}\\n\".format(ax,α))\n",
    "\n",
    "# SHELL PROPERTIES\n",
    "outfile.write(\"**\\n\")\n",
    "outfile.write(\"** SHELL PROPERTIES\\n\")\n",
    "outfile.write(\"**\\n\")\n",
    "outfile.write(\"*Shell Section, elset = {0}, material = {1}, orientation = local_orientation\\n\" \\\n",
    "              .format(elname,matname))\n",
    "outfile.write(\"{0:4},{1:4d}\\n\".format(t,intpoints))\n",
    "\n",
    "# calculation steps\n",
    "outfile.write(\"**\\n\")\n",
    "outfile.write(\"** STEP\\n\")\n",
    "outfile.write(\"**\\n\")\n",
    "\n",
    "outfile.write(\"*Step, name = step_1\\n\")\n",
    "outfile.write(\"*Static\\n\")\n",
    "\n",
    "# BOUNDARY CONDITIONS\n",
    "\n",
    "outfile.write(\"**\\n\")\n",
    "outfile.write(\"** BOUNDARY CONDITIONS\\n\")\n",
    "outfile.write(\"**\\n\")\n",
    "outfile.write(\"*Boundary\\n\")\n",
    "outfile.write(\"{0}, ENCASTRE\\n\".format(bcname))\n",
    "\n",
    "# LOADS\n",
    "\n",
    "outfile.write(\"**\\n\")\n",
    "outfile.write(\"** LOADS\\n\")\n",
    "outfile.write(\"**\\n\")\n",
    "outfile.write(\"*Cload\\n\")\n",
    "outfile.write(\"{0}, {1:2d}, {2}\\n\".format(loadextnodes, 3, F*b/ny/2 ))\n",
    "outfile.write(\"{0}, {1:2d}, {2}\\n\".format(loadintnodes, 3, F*b/ny ))\n",
    "\n",
    "# FIELD OUTPUT\n",
    "\n",
    "outfile.write(\"**\\n\")\n",
    "outfile.write(\"** FIELD OUTPUT\\n\")\n",
    "outfile.write(\"**\\n\")\n",
    "outfile.write(\"*Output, field, variable=PRESELECT\\n\")\n",
    "\n",
    "# HISTORY OUTPUT\n",
    "\n",
    "outfile.write(\"**\\n\")\n",
    "outfile.write(\"** HISTORY OUTPUT\\n\")\n",
    "outfile.write(\"**\\n\")\n",
    "outfile.write(\"*Output, history, variable=PRESELECT\\n\")\n",
    "\n",
    "# PRINT DISPLACEMENT AND STRESS DATA\n",
    "\n",
    "outfile.write(\"**\\n\")\n",
    "outfile.write(\"** PRINT RESULTS TO FILE\\n\")\n",
    "outfile.write(\"**\\n\")\n",
    "outfile.write(\"*NODE FILE\\n\")\n",
    "outfile.write(\"U,\\n\")\n",
    "outfile.write(\"RF,\\n\")\n",
    "outfile.write(\"*EL FILE\\n\")\n",
    "outfile.write(\"S,\\n\")\n",
    "\n",
    "\n",
    "outfile.write(\"*End Step\\n\\n\")\n",
    "\n",
    "outfile.close()\n"
   ]
  },
  {
   "cell_type": "markdown",
   "metadata": {},
   "source": [
    "copy file to analysis directory"
   ]
  },
  {
   "cell_type": "code",
   "execution_count": 112,
   "metadata": {
    "collapsed": false
   },
   "outputs": [
    {
     "data": {
      "text/plain": [
       "'../Lab02_abaqus/test_5x5y.inp'"
      ]
     },
     "execution_count": 112,
     "metadata": {},
     "output_type": "execute_result"
    }
   ],
   "source": [
    "shutil.copy(filename,\"../Lab02_abaqus\")"
   ]
  },
  {
   "cell_type": "markdown",
   "metadata": {
    "collapsed": false
   },
   "source": [
    "## Analytical solutions:"
   ]
  },
  {
   "cell_type": "markdown",
   "metadata": {
    "collapsed": false
   },
   "source": [
    "Maximum stress at $x = 350 mm$:\n",
    "\n",
    "$\\sigma_{xx} = \\frac{(a-x) \\cdot F}{\\frac{1}{12}\\cdot bt^3} \\cdot \\frac{t}{2} = \\frac{6 \\cdot f \\cdot (a-x)}{t^2}$\n",
    "\n"
   ]
  },
  {
   "cell_type": "code",
   "execution_count": 113,
   "metadata": {
    "collapsed": false
   },
   "outputs": [
    {
     "name": "stdout",
     "output_type": "stream",
     "text": [
      "σ max = 34.667 MPa\n"
     ]
    }
   ],
   "source": [
    "σ = 6*F*(a-350)/t**2\n",
    "print(\"σ max = %6.3f MPa\" % σ)"
   ]
  },
  {
   "cell_type": "markdown",
   "metadata": {},
   "source": [
    "Tip displacement:\n",
    "\n",
    "$$\\delta = \\frac{F \\cdot a^3}{3 \\cdot EI} = \\frac{4 \\cdot f \\cdot l^3}{E \\cdot t^3}$$"
   ]
  },
  {
   "cell_type": "code",
   "execution_count": 114,
   "metadata": {
    "collapsed": false
   },
   "outputs": [
    {
     "name": "stdout",
     "output_type": "stream",
     "text": [
      "δ =  329.22 mm\n"
     ]
    }
   ],
   "source": [
    "δ = 4*F*a**3/(E*t**3)\n",
    "print(\"δ = %7.2f mm\" % δ)"
   ]
  },
  {
   "cell_type": "code",
   "execution_count": 115,
   "metadata": {
    "collapsed": false
   },
   "outputs": [
    {
     "ename": "FileNotFoundError",
     "evalue": "[Errno 2] No such file or directory: 'test.png'",
     "output_type": "error",
     "traceback": [
      "\u001b[1;31m---------------------------------------------------------------------------\u001b[0m",
      "\u001b[1;31mFileNotFoundError\u001b[0m                         Traceback (most recent call last)",
      "\u001b[1;32m<ipython-input-115-ad908fe79f4d>\u001b[0m in \u001b[0;36m<module>\u001b[1;34m()\u001b[0m\n\u001b[1;32m----> 1\u001b[1;33m \u001b[0mImage\u001b[0m\u001b[1;33m(\u001b[0m\u001b[0mfilename\u001b[0m\u001b[1;33m=\u001b[0m\u001b[1;34m'test.png'\u001b[0m\u001b[1;33m)\u001b[0m\u001b[1;33m\u001b[0m\u001b[0m\n\u001b[0m",
      "\u001b[1;32m/home/claudio/anaconda/envs/py3/lib/python3.4/site-packages/IPython/core/display.py\u001b[0m in \u001b[0;36m__init__\u001b[1;34m(self, data, url, filename, format, embed, width, height, retina, unconfined, metadata)\u001b[0m\n\u001b[0;32m    737\u001b[0m         \u001b[0mself\u001b[0m\u001b[1;33m.\u001b[0m\u001b[0munconfined\u001b[0m \u001b[1;33m=\u001b[0m \u001b[0munconfined\u001b[0m\u001b[1;33m\u001b[0m\u001b[0m\n\u001b[0;32m    738\u001b[0m         \u001b[0mself\u001b[0m\u001b[1;33m.\u001b[0m\u001b[0mmetadata\u001b[0m \u001b[1;33m=\u001b[0m \u001b[0mmetadata\u001b[0m\u001b[1;33m\u001b[0m\u001b[0m\n\u001b[1;32m--> 739\u001b[1;33m         \u001b[0msuper\u001b[0m\u001b[1;33m(\u001b[0m\u001b[0mImage\u001b[0m\u001b[1;33m,\u001b[0m \u001b[0mself\u001b[0m\u001b[1;33m)\u001b[0m\u001b[1;33m.\u001b[0m\u001b[0m__init__\u001b[0m\u001b[1;33m(\u001b[0m\u001b[0mdata\u001b[0m\u001b[1;33m=\u001b[0m\u001b[0mdata\u001b[0m\u001b[1;33m,\u001b[0m \u001b[0murl\u001b[0m\u001b[1;33m=\u001b[0m\u001b[0murl\u001b[0m\u001b[1;33m,\u001b[0m \u001b[0mfilename\u001b[0m\u001b[1;33m=\u001b[0m\u001b[0mfilename\u001b[0m\u001b[1;33m)\u001b[0m\u001b[1;33m\u001b[0m\u001b[0m\n\u001b[0m\u001b[0;32m    740\u001b[0m \u001b[1;33m\u001b[0m\u001b[0m\n\u001b[0;32m    741\u001b[0m         \u001b[1;32mif\u001b[0m \u001b[0mretina\u001b[0m\u001b[1;33m:\u001b[0m\u001b[1;33m\u001b[0m\u001b[0m\n",
      "\u001b[1;32m/home/claudio/anaconda/envs/py3/lib/python3.4/site-packages/IPython/core/display.py\u001b[0m in \u001b[0;36m__init__\u001b[1;34m(self, data, url, filename)\u001b[0m\n\u001b[0;32m    384\u001b[0m         \u001b[0mself\u001b[0m\u001b[1;33m.\u001b[0m\u001b[0mfilename\u001b[0m \u001b[1;33m=\u001b[0m \u001b[1;32mNone\u001b[0m \u001b[1;32mif\u001b[0m \u001b[0mfilename\u001b[0m \u001b[1;32mis\u001b[0m \u001b[1;32mNone\u001b[0m \u001b[1;32melse\u001b[0m \u001b[0municode_type\u001b[0m\u001b[1;33m(\u001b[0m\u001b[0mfilename\u001b[0m\u001b[1;33m)\u001b[0m\u001b[1;33m\u001b[0m\u001b[0m\n\u001b[0;32m    385\u001b[0m \u001b[1;33m\u001b[0m\u001b[0m\n\u001b[1;32m--> 386\u001b[1;33m         \u001b[0mself\u001b[0m\u001b[1;33m.\u001b[0m\u001b[0mreload\u001b[0m\u001b[1;33m(\u001b[0m\u001b[1;33m)\u001b[0m\u001b[1;33m\u001b[0m\u001b[0m\n\u001b[0m\u001b[0;32m    387\u001b[0m         \u001b[0mself\u001b[0m\u001b[1;33m.\u001b[0m\u001b[0m_check_data\u001b[0m\u001b[1;33m(\u001b[0m\u001b[1;33m)\u001b[0m\u001b[1;33m\u001b[0m\u001b[0m\n\u001b[0;32m    388\u001b[0m \u001b[1;33m\u001b[0m\u001b[0m\n",
      "\u001b[1;32m/home/claudio/anaconda/envs/py3/lib/python3.4/site-packages/IPython/core/display.py\u001b[0m in \u001b[0;36mreload\u001b[1;34m(self)\u001b[0m\n\u001b[0;32m    759\u001b[0m         \u001b[1;34m\"\"\"Reload the raw data from file or URL.\"\"\"\u001b[0m\u001b[1;33m\u001b[0m\u001b[0m\n\u001b[0;32m    760\u001b[0m         \u001b[1;32mif\u001b[0m \u001b[0mself\u001b[0m\u001b[1;33m.\u001b[0m\u001b[0membed\u001b[0m\u001b[1;33m:\u001b[0m\u001b[1;33m\u001b[0m\u001b[0m\n\u001b[1;32m--> 761\u001b[1;33m             \u001b[0msuper\u001b[0m\u001b[1;33m(\u001b[0m\u001b[0mImage\u001b[0m\u001b[1;33m,\u001b[0m\u001b[0mself\u001b[0m\u001b[1;33m)\u001b[0m\u001b[1;33m.\u001b[0m\u001b[0mreload\u001b[0m\u001b[1;33m(\u001b[0m\u001b[1;33m)\u001b[0m\u001b[1;33m\u001b[0m\u001b[0m\n\u001b[0m\u001b[0;32m    762\u001b[0m             \u001b[1;32mif\u001b[0m \u001b[0mself\u001b[0m\u001b[1;33m.\u001b[0m\u001b[0mretina\u001b[0m\u001b[1;33m:\u001b[0m\u001b[1;33m\u001b[0m\u001b[0m\n\u001b[0;32m    763\u001b[0m                 \u001b[0mself\u001b[0m\u001b[1;33m.\u001b[0m\u001b[0m_retina_shape\u001b[0m\u001b[1;33m(\u001b[0m\u001b[1;33m)\u001b[0m\u001b[1;33m\u001b[0m\u001b[0m\n",
      "\u001b[1;32m/home/claudio/anaconda/envs/py3/lib/python3.4/site-packages/IPython/core/display.py\u001b[0m in \u001b[0;36mreload\u001b[1;34m(self)\u001b[0m\n\u001b[0;32m    402\u001b[0m         \u001b[1;34m\"\"\"Reload the raw data from file or URL.\"\"\"\u001b[0m\u001b[1;33m\u001b[0m\u001b[0m\n\u001b[0;32m    403\u001b[0m         \u001b[1;32mif\u001b[0m \u001b[0mself\u001b[0m\u001b[1;33m.\u001b[0m\u001b[0mfilename\u001b[0m \u001b[1;32mis\u001b[0m \u001b[1;32mnot\u001b[0m \u001b[1;32mNone\u001b[0m\u001b[1;33m:\u001b[0m\u001b[1;33m\u001b[0m\u001b[0m\n\u001b[1;32m--> 404\u001b[1;33m             \u001b[1;32mwith\u001b[0m \u001b[0mopen\u001b[0m\u001b[1;33m(\u001b[0m\u001b[0mself\u001b[0m\u001b[1;33m.\u001b[0m\u001b[0mfilename\u001b[0m\u001b[1;33m,\u001b[0m \u001b[0mself\u001b[0m\u001b[1;33m.\u001b[0m\u001b[0m_read_flags\u001b[0m\u001b[1;33m)\u001b[0m \u001b[1;32mas\u001b[0m \u001b[0mf\u001b[0m\u001b[1;33m:\u001b[0m\u001b[1;33m\u001b[0m\u001b[0m\n\u001b[0m\u001b[0;32m    405\u001b[0m                 \u001b[0mself\u001b[0m\u001b[1;33m.\u001b[0m\u001b[0mdata\u001b[0m \u001b[1;33m=\u001b[0m \u001b[0mf\u001b[0m\u001b[1;33m.\u001b[0m\u001b[0mread\u001b[0m\u001b[1;33m(\u001b[0m\u001b[1;33m)\u001b[0m\u001b[1;33m\u001b[0m\u001b[0m\n\u001b[0;32m    406\u001b[0m         \u001b[1;32melif\u001b[0m \u001b[0mself\u001b[0m\u001b[1;33m.\u001b[0m\u001b[0murl\u001b[0m \u001b[1;32mis\u001b[0m \u001b[1;32mnot\u001b[0m \u001b[1;32mNone\u001b[0m\u001b[1;33m:\u001b[0m\u001b[1;33m\u001b[0m\u001b[0m\n",
      "\u001b[1;31mFileNotFoundError\u001b[0m: [Errno 2] No such file or directory: 'test.png'"
     ]
    }
   ],
   "source": [
    "Image(filename='test.png')"
   ]
  },
  {
   "cell_type": "code",
   "execution_count": null,
   "metadata": {
    "collapsed": false
   },
   "outputs": [],
   "source": []
  },
  {
   "cell_type": "code",
   "execution_count": null,
   "metadata": {
    "collapsed": true
   },
   "outputs": [],
   "source": []
  }
 ],
 "metadata": {
  "kernelspec": {
   "display_name": "Python 3",
   "language": "python",
   "name": "python3"
  },
  "language_info": {
   "codemirror_mode": {
    "name": "ipython",
    "version": 3
   },
   "file_extension": ".py",
   "mimetype": "text/x-python",
   "name": "python",
   "nbconvert_exporter": "python",
   "pygments_lexer": "ipython3",
   "version": "3.4.3"
  }
 },
 "nbformat": 4,
 "nbformat_minor": 0
}
