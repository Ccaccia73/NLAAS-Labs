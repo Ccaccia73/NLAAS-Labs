{
 "cells": [
  {
   "cell_type": "code",
   "execution_count": 174,
   "metadata": {
    "collapsed": true
   },
   "outputs": [],
   "source": [
    "import numpy as np\n",
    "import matplotlib.pyplot as plt\n",
    "import json\n",
    "from matplotlib import rcParams\n",
    "rcParams['font.family'] = 'serif'\n",
    "rcParams['font.size'] = 14"
   ]
  },
  {
   "cell_type": "markdown",
   "metadata": {},
   "source": [
    "Module for computations"
   ]
  },
  {
   "cell_type": "code",
   "execution_count": 175,
   "metadata": {
    "collapsed": true
   },
   "outputs": [],
   "source": [
    "import FEM_utilities as FEM"
   ]
  },
  {
   "cell_type": "markdown",
   "metadata": {},
   "source": [
    "Parameters:"
   ]
  },
  {
   "cell_type": "code",
   "execution_count": 176,
   "metadata": {
    "collapsed": true
   },
   "outputs": [],
   "source": [
    "a = 1000. # lenght [mm]\n",
    "b = 200.  # width  [mm]\n",
    "t = 1.5   # thickness [mm]\n"
   ]
  },
  {
   "cell_type": "markdown",
   "metadata": {},
   "source": [
    "Compute node coordinates, elements, constrained and loaded nodes"
   ]
  },
  {
   "cell_type": "code",
   "execution_count": 177,
   "metadata": {
    "collapsed": false
   },
   "outputs": [],
   "source": [
    "nx = 4\n",
    "ny = 4\n",
    "\n",
    "nodes, elements, fixed, loaded = FEM.Nodes(nx, ny, a, b)"
   ]
  },
  {
   "cell_type": "code",
   "execution_count": 178,
   "metadata": {
    "collapsed": false
   },
   "outputs": [
    {
     "data": {
      "text/plain": [
       "array([[    1.,     0.,     0.,     0.],\n",
       "       [    2.,   250.,     0.,     0.],\n",
       "       [    3.,   500.,     0.,     0.],\n",
       "       [    4.,   750.,     0.,     0.],\n",
       "       [    5.,  1000.,     0.,     0.],\n",
       "       [    6.,     0.,    50.,     0.],\n",
       "       [    7.,   250.,    50.,     0.],\n",
       "       [    8.,   500.,    50.,     0.],\n",
       "       [    9.,   750.,    50.,     0.],\n",
       "       [   10.,  1000.,    50.,     0.],\n",
       "       [   11.,     0.,   100.,     0.],\n",
       "       [   12.,   250.,   100.,     0.],\n",
       "       [   13.,   500.,   100.,     0.],\n",
       "       [   14.,   750.,   100.,     0.],\n",
       "       [   15.,  1000.,   100.,     0.],\n",
       "       [   16.,     0.,   150.,     0.],\n",
       "       [   17.,   250.,   150.,     0.],\n",
       "       [   18.,   500.,   150.,     0.],\n",
       "       [   19.,   750.,   150.,     0.],\n",
       "       [   20.,  1000.,   150.,     0.],\n",
       "       [   21.,     0.,   200.,     0.],\n",
       "       [   22.,   250.,   200.,     0.],\n",
       "       [   23.,   500.,   200.,     0.],\n",
       "       [   24.,   750.,   200.,     0.],\n",
       "       [   25.,  1000.,   200.,     0.]])"
      ]
     },
     "execution_count": 178,
     "metadata": {},
     "output_type": "execute_result"
    }
   ],
   "source": [
    "nodes"
   ]
  },
  {
   "cell_type": "code",
   "execution_count": 179,
   "metadata": {
    "collapsed": false
   },
   "outputs": [
    {
     "data": {
      "text/plain": [
       "array([[  1.,   1.,   2.,   7.,   6.],\n",
       "       [  2.,   2.,   3.,   8.,   7.],\n",
       "       [  3.,   3.,   4.,   9.,   8.],\n",
       "       [  4.,   4.,   5.,  10.,   9.],\n",
       "       [  5.,   6.,   7.,  12.,  11.],\n",
       "       [  6.,   7.,   8.,  13.,  12.],\n",
       "       [  7.,   8.,   9.,  14.,  13.],\n",
       "       [  8.,   9.,  10.,  15.,  14.],\n",
       "       [  9.,  11.,  12.,  17.,  16.],\n",
       "       [ 10.,  12.,  13.,  18.,  17.],\n",
       "       [ 11.,  13.,  14.,  19.,  18.],\n",
       "       [ 12.,  14.,  15.,  20.,  19.],\n",
       "       [ 13.,  16.,  17.,  22.,  21.],\n",
       "       [ 14.,  17.,  18.,  23.,  22.],\n",
       "       [ 15.,  18.,  19.,  24.,  23.],\n",
       "       [ 16.,  19.,  20.,  25.,  24.]])"
      ]
     },
     "execution_count": 179,
     "metadata": {},
     "output_type": "execute_result"
    }
   ],
   "source": [
    "elements"
   ]
  },
  {
   "cell_type": "code",
   "execution_count": 180,
   "metadata": {
    "collapsed": false
   },
   "outputs": [
    {
     "data": {
      "text/plain": [
       "array([ 1,  6, 11, 16, 21])"
      ]
     },
     "execution_count": 180,
     "metadata": {},
     "output_type": "execute_result"
    }
   ],
   "source": [
    "fixed"
   ]
  },
  {
   "cell_type": "code",
   "execution_count": 181,
   "metadata": {
    "collapsed": false
   },
   "outputs": [
    {
     "data": {
      "text/plain": [
       "array([ 5, 10, 15, 20, 25])"
      ]
     },
     "execution_count": 181,
     "metadata": {},
     "output_type": "execute_result"
    }
   ],
   "source": [
    "loaded"
   ]
  },
  {
   "cell_type": "markdown",
   "metadata": {},
   "source": [
    "## Write input file"
   ]
  },
  {
   "cell_type": "markdown",
   "metadata": {},
   "source": [
    "Set parameters for simulation:\n",
    "\n",
    "- *filename* : name of input file\n",
    "- *eltype* : type of shell element (see conventions [here](http://media.3ds.com/support/documentation/product/V6R2013/en/English/MpeUsbHtml/pt06ch29s06alm17.htm))\n",
    "- *matname*: name of material\n",
    "- **E**, $\\nu$: elastic properties (Young modulus and Poisson ratio, as *TYPE* is by default **isotropic**) \n",
    "- *elname*: **\\*Elset** assigned name\n",
    "- *bcname*, *loadextname*, *loadintname*: names for boundary condition, external and internal nodes loaded \n",
    "- *pa*, *pb*,*ax*, $\\alpha$: coordinate points, axis and angle used to define local coordinate system (see conventions [here](http://media.3ds.com/support/documentation/product/V6R2013/en/English/MpeKeyHtml/ch15abk01.htm#usb-kws-morientation)) \n",
    "- *intpoints*: shell integration points\n",
    "- *F*: force at tip of plate [N/mm]"
   ]
  },
  {
   "cell_type": "code",
   "execution_count": 182,
   "metadata": {
    "collapsed": true
   },
   "outputs": [],
   "source": [
    "filename = 'test.inp'\n",
    "\n",
    "eltype = 'S4R' #'SC8R'\n",
    "\n",
    "matname = 'material_1'\n",
    "\n",
    "E = 72000. # modulus [MPa]\n",
    "ν = 0.33   # Poisson's coefficient\n",
    "\n",
    "elname = 'plate_1'\n",
    "\n",
    "bcname = 'fixed_nodes'\n",
    "loadextnodes = 'loaded_nodes_external'\n",
    "loadintnodes = 'loaded_nodes_internal'\n",
    "\n",
    "pa = [1.0,0.0,0.0]\n",
    "pb = [0.0,1.0,0.0]\n",
    "# pc = [0.0,0.0,0.0]\n",
    "ax = 3\n",
    "α = 0.0\n",
    "\n",
    "intpoints = 5\n",
    "\n",
    "F = 0.02   # load [N/mm]"
   ]
  },
  {
   "cell_type": "code",
   "execution_count": 183,
   "metadata": {
    "collapsed": false
   },
   "outputs": [],
   "source": [
    "outfile = open(filename, \"wt\")\n",
    "\n",
    "outfile.write(\"** Lab 02 input file test\\n\")\n",
    "\n",
    "# NODES section\n",
    "\n",
    "outfile.write(\"**\\n\")\n",
    "outfile.write(\"** NODES\\n\")\n",
    "outfile.write(\"**\\n\")\n",
    "outfile.write(\"*Node, nset = nglobal\\n\")\n",
    "\n",
    "for i in range(nodes.shape[0]):\n",
    "    nodestring = \"{0:4d}\".format(int(nodes[i,0]))\n",
    "    for j in range(1,nodes.shape[1]):\n",
    "        nodestring+=\",{0:8}\".format(nodes[i,j])\n",
    "    nodestring+=\"\\n\"\n",
    "    outfile.write(nodestring)\n",
    "\n",
    "# ELEMENTS section\n",
    "    \n",
    "outfile.write(\"\\n**\\n\")\n",
    "outfile.write(\"** ELEMENTS\\n\")\n",
    "outfile.write(\"**\\n\")\n",
    "outfile.write(\"*Element, type = {0}\\n\".format(eltype))\n",
    "\n",
    "for i in range(elements.shape[0]):\n",
    "    elstring = \"{0:4d}\".format(int(elements[i,0]))\n",
    "    for j in range(1,elements.shape[1]):\n",
    "        elstring+=\",{0:4d}\".format(int(elements[i,j]))\n",
    "    elstring+=\"\\n\"\n",
    "    outfile.write(elstring)\n",
    "\n",
    "# MATERIAL section\n",
    "\n",
    "outfile.write(\"\\n**\\n\")\n",
    "outfile.write(\"** MATERIALS\\n\")\n",
    "outfile.write(\"**\\n\")\n",
    "outfile.write(\"*Material, name = {0}\\n\".format(matname))\n",
    "outfile.write(\"{0},{1:6}\\n\".format(E,ν))\n",
    "\n",
    "# SETS section\n",
    "# NODES\n",
    "\n",
    "outfile.write(\"\\n**\\n\")\n",
    "outfile.write(\"** SETS\\n\")\n",
    "outfile.write(\"**\\n\")\n",
    "outfile.write(\"*Nset, nset = {0}\\n\".format(bcname))\n",
    "\n",
    "fix_str = \"{0:4d}\".format(int(fixed[0]))\n",
    "\n",
    "for i in range(1,len(fixed)):\n",
    "    fix_str+=\",{0:4d}\".format(int(fixed[i]))\n",
    "fix_str+=\"\\n\"\n",
    "outfile.write(fix_str)\n",
    "\n",
    "if len(loaded > 2):\n",
    "    outfile.write(\"*Nset, nset = {0}\\n\".format(loadintnodes))\n",
    "    il_str = \"{0:4d}\".format(int(loaded[1]))\n",
    "    for i in range(2,len(loaded)-1):\n",
    "        il_str+=\",{0:4d}\".format(int(loaded[i]))\n",
    "    il_str+=\"\\n\"\n",
    "    outfile.write(il_str)\n",
    "    \n",
    "outfile.write(\"*Nset, nset = {0}\\n\".format(loadextnodes))\n",
    "el_str = \"{0:4d},{1:4d}\\n\".format(int(loaded[0]),int(loaded[-1]))\n",
    "outfile.write(el_str)\n",
    "\n",
    "# ELEMENTS\n",
    "outfile.write(\"*Elset, elset = {0} generate\\n\".format(elname))\n",
    "outfile.write(\"{0:4d},{1:4d},{2:4d}\\n\".format(1,elements.shape[0],1))\n",
    "\n",
    "# ORIENTATION\n",
    "\n",
    "outfile.write(\"\\n**\\n\")\n",
    "outfile.write(\"** LOCAL ORIENTATION\\n\")\n",
    "outfile.write(\"**\\n\")\n",
    "outfile.write(\"*orientation, name = local_orientation\\n\")\n",
    "outfile.write(\"\".join(str(pa+pb))[1:-1])\n",
    "outfile.write(\"\\n\")\n",
    "outfile.write(\"{0},{1:4}\\n\".format(ax,α))\n",
    "\n",
    "# SHELL PROPERTIES\n",
    "outfile.write(\"\\n**\\n\")\n",
    "outfile.write(\"** LOCAL ORIENTATION\\n\")\n",
    "outfile.write(\"**\\n\")\n",
    "outfile.write(\"*Shell Section, elset = {0}, material = {1}, orientation = local_orientation\\n\" \\\n",
    "              .format(elname,matname))\n",
    "outfile.write(\"{0:4},{1:4d}\\n\".format(t,intpoints))\n",
    "\n",
    "# calculation steps\n",
    "outfile.write(\"\\n**\\n\")\n",
    "outfile.write(\"** STEP\\n\")\n",
    "outfile.write(\"**\\n\")\n",
    "\n",
    "outfile.write(\"*Step, name = step_1\\n\")\n",
    "outfile.write(\"*Static\\n\")\n",
    "\n",
    "# BOUNDARY CONDITIONS\n",
    "\n",
    "outfile.write(\"\\n**\\n\")\n",
    "outfile.write(\"** BOUNDARY CONDITIONS\\n\")\n",
    "outfile.write(\"**\\n\")\n",
    "outfile.write(\"*Boundary\\n\")\n",
    "outfile.write(\"{0}, ENCASTRE\\n\".format(bcname))\n",
    "\n",
    "# LOADS\n",
    "\n",
    "outfile.write(\"\\n**\\n\")\n",
    "outfile.write(\"** LOADS\\n\")\n",
    "outfile.write(\"**\\n\")\n",
    "outfile.write(\"*Cload\\n\")\n",
    "outfile.write(\"{0}, {1:2d}, {2}\\n\".format(loadextnodes, 3, F*b/ny/2 ))\n",
    "outfile.write(\"{0}, {1:2d}, {2}\\n\".format(loadintnodes, 3, F*b/ny ))\n",
    "\n",
    "# FIELD OUTPUT\n",
    "\n",
    "outfile.write(\"\\n**\\n\")\n",
    "outfile.write(\"** FIELD OUTPUT\\n\")\n",
    "outfile.write(\"**\\n\")\n",
    "outfile.write(\"*Output, field, variable=PRESELECT\\n\")\n",
    "\n",
    "# HISTORY OUTPUT\n",
    "\n",
    "outfile.write(\"\\n**\\n\")\n",
    "outfile.write(\"** HISTORY OUTPUT\\n\")\n",
    "outfile.write(\"**\\n\")\n",
    "outfile.write(\"*Output, history, variable=PRESELECT\\n\")\n",
    "\n",
    "outfile.write(\"*End Step\\n\\n\")\n",
    "\n",
    "outfile.close()\n"
   ]
  },
  {
   "cell_type": "code",
   "execution_count": null,
   "metadata": {
    "collapsed": false
   },
   "outputs": [],
   "source": []
  },
  {
   "cell_type": "code",
   "execution_count": null,
   "metadata": {
    "collapsed": false
   },
   "outputs": [],
   "source": []
  },
  {
   "cell_type": "code",
   "execution_count": null,
   "metadata": {
    "collapsed": true
   },
   "outputs": [],
   "source": []
  }
 ],
 "metadata": {
  "kernelspec": {
   "display_name": "Python 3",
   "language": "python",
   "name": "python3"
  },
  "language_info": {
   "codemirror_mode": {
    "name": "ipython",
    "version": 3
   },
   "file_extension": ".py",
   "mimetype": "text/x-python",
   "name": "python",
   "nbconvert_exporter": "python",
   "pygments_lexer": "ipython3",
   "version": "3.4.3"
  }
 },
 "nbformat": 4,
 "nbformat_minor": 0
}
