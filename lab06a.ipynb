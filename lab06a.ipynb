{
 "cells": [
  {
   "cell_type": "code",
   "execution_count": 20,
   "metadata": {
    "collapsed": false
   },
   "outputs": [],
   "source": [
    "import numpy as np\n",
    "import os\n",
    "import glob\n",
    "import shutil\n",
    "import matplotlib.pyplot as plt\n",
    "import json\n",
    "import subprocess\n",
    "from matplotlib import rcParams\n",
    "rcParams['font.family'] = 'serif'\n",
    "rcParams['font.size'] = 16\n",
    "from IPython.display import Image\n",
    "%matplotlib inline"
   ]
  },
  {
   "cell_type": "markdown",
   "metadata": {},
   "source": [
    "Module for computations (if needed)"
   ]
  },
  {
   "cell_type": "code",
   "execution_count": 27,
   "metadata": {
    "collapsed": true
   },
   "outputs": [],
   "source": [
    "import FEM_utilities as FEM"
   ]
  },
  {
   "cell_type": "markdown",
   "metadata": {},
   "source": [
    "# Lab 06"
   ]
  },
  {
   "cell_type": "markdown",
   "metadata": {},
   "source": [
    "## 1) Lateral buckling"
   ]
  },
  {
   "cell_type": "markdown",
   "metadata": {},
   "source": [
    "## Write input file - Shell"
   ]
  },
  {
   "cell_type": "code",
   "execution_count": 28,
   "metadata": {
    "collapsed": false
   },
   "outputs": [],
   "source": [
    "def write_shell_inp_file(L, h, b, num_e, y_e, E, ν, num_modes):\n",
    "    \"\"\"\n",
    "    function to write inp file:\n",
    "    L        : lenght of cantilever\n",
    "    h        : height\n",
    "    b        :  thickness\n",
    "    num_e    : number of elements\n",
    "    y_e      : number of elements in y direction\n",
    "    E        : Young's modulus\n",
    "    nu       : Poisson ratio\n",
    "    num_modes: number of eigenvalues to be estimated\n",
    "    \"\"\"\n",
    "    \n",
    "    elname = \"EALL\"\n",
    "    matname = \"mat1\"\n",
    "    bcname = \"fixed_nodes\"\n",
    "    loadextnodes = 'loaded_nodes_external'\n",
    "    loadintnodes = 'loaded_nodes_internal'\n",
    "    \n",
    "    pa = [1.0,0.0,0.0]\n",
    "    pb = [0.0,1.0,0.0]\n",
    "    # pc = [0.0,0.0,0.0]\n",
    "    ax = 3\n",
    "    α = 0.0\n",
    "    \n",
    "    intpoints = 5\n",
    "    \n",
    "    basename = 'b1_ne'+str(num_e).zfill(3)+'_ye'+str(y_e).zfill(2)+'_aS'\n",
    "\n",
    "    filename = basename+'.inp'\n",
    "    \n",
    "    outfile = open(filename, \"wt\")\n",
    "    \n",
    "    outfile.write(\"** Lab 06 input file buckling - shell\\n\")\n",
    "        \n",
    "    nodes, elements, fixed, loaded = FEM.Nodes(num_e, y_e, L, h)\n",
    "        \n",
    "    # NODES section\n",
    "    outfile.write(\"**\\n\")\n",
    "    outfile.write(\"** Nodes\\n\")\n",
    "    outfile.write(\"**\\n\")\n",
    "    outfile.write(\"*NODE, nset = nglobal\\n\")\n",
    "\n",
    "    for i in range(nodes.shape[0]):\n",
    "        nodestring = \"{0:4d}\".format(int(nodes[i,0]))\n",
    "        for j in range(1,nodes.shape[1]):\n",
    "            nodestring+=\",{0:8}\".format(nodes[i,j])\n",
    "        nodestring+=\"\\n\"\n",
    "        outfile.write(nodestring)\n",
    "        \n",
    "    # ELEMENTS section\n",
    "    outfile.write(\"**\\n\")\n",
    "    outfile.write(\"** Elements\\n\")\n",
    "    outfile.write(\"**\\n\")\n",
    "    outfile.write(\"*ELEMENT, type = S4R\\n\")\n",
    "    \n",
    "    for i in range(elements.shape[0]):\n",
    "        elstring = \"{0:4d}\".format(int(elements[i,0]))\n",
    "        for j in range(1,elements.shape[1]):\n",
    "            elstring+=\",{0:4d}\".format(int(elements[i,j]))\n",
    "        elstring+=\"\\n\"\n",
    "        outfile.write(elstring)\n",
    "\n",
    "    # MATERIAL section\n",
    "    outfile.write(\"**\\n\")\n",
    "    outfile.write(\"** Materials\\n\")\n",
    "    outfile.write(\"**\\n\")\n",
    "    outfile.write(\"*MATERIAL, name = {0}\\n\".format(matname))\n",
    "    outfile.write(\"*Elastic\\n\")\n",
    "    outfile.write(\"{0},{1:6}\\n\".format(E,ν))\n",
    "\n",
    "    # SETS section\n",
    "    # NODES\n",
    "    outfile.write(\"**\\n\")\n",
    "    outfile.write(\"** Sets\\n\")\n",
    "    outfile.write(\"**\\n\")\n",
    "    outfile.write(\"*NSET, nset = {0}\\n\".format(bcname))\n",
    "\n",
    "    fix_str = \"{0:4d}\".format(int(fixed[0]))\n",
    "    \n",
    "    for i in range(1,len(fixed)):\n",
    "        fix_str+=\",{0:4d}\".format(int(fixed[i]))\n",
    "    fix_str+=\"\\n\"\n",
    "    outfile.write(fix_str)\n",
    "    \n",
    "    # loaded\n",
    "    if len(loaded > 2):\n",
    "        outfile.write(\"*Nset, nset = {0}\\n\".format(loadintnodes))\n",
    "        il_str = \"{0:4d}\".format(int(loaded[1]))\n",
    "        for i in range(2,len(loaded)-1):\n",
    "            il_str+=\",{0:4d}\".format(int(loaded[i]))\n",
    "        il_str+=\"\\n\"\n",
    "        outfile.write(il_str)\n",
    "    \n",
    "    outfile.write(\"*Nset, nset = {0}\\n\".format(loadextnodes))\n",
    "    el_str = \"{0:4d},{1:4d}\\n\".format(int(loaded[0]),int(loaded[-1]))\n",
    "    outfile.write(el_str)\n",
    "    \n",
    "    # ELEMENTS\n",
    "    outfile.write(\"*Elset, elset = {0}, generate\\n\".format(elname))\n",
    "    outfile.write(\"{0:4d},{1:4d},{2:4d}\\n\".format(1,elements.shape[0],1))\n",
    "    \n",
    "    # ORIENTATION\n",
    "    outfile.write(\"**\\n\")\n",
    "    outfile.write(\"** LOCAL ORIENTATION\\n\")\n",
    "    outfile.write(\"**\\n\")\n",
    "    outfile.write(\"*orientation, name = local_orientation\\n\")\n",
    "    outfile.write(\"\".join(str(pa+pb))[1:-1])\n",
    "    outfile.write(\"\\n\")\n",
    "    outfile.write(\"{0},{1:4}\\n\".format(ax,α))\n",
    "\n",
    "    # SHELL PROPERTIES\n",
    "    outfile.write(\"**\\n\")\n",
    "    outfile.write(\"** SHELL PROPERTIES\\n\")\n",
    "    outfile.write(\"**\\n\")\n",
    "    outfile.write(\"*Shell Section, elset = {0}, material = {1}, orientation = local_orientation\\n\" \\\n",
    "                  .format(elname,matname))\n",
    "    outfile.write(\"{0:4},{1:4d}\\n\".format(b,intpoints))\n",
    "    \n",
    "    # calculation steps\n",
    "    outfile.write(\"**\\n\")\n",
    "    outfile.write(\"** STEP\\n\")\n",
    "    outfile.write(\"**\\n\")\n",
    "        \n",
    "    \n",
    "    outfile.write(\"*STEP\\n\")\n",
    "    outfile.write(\"*BUCKLE\\n\")\n",
    "    outfile.write(\"{0},\\n\".format(num_modes))\n",
    "    \n",
    "    # BOUNDARY CONDITIONS\n",
    "    outfile.write(\"**\\n\")\n",
    "    outfile.write(\"** BOUNDARY CONDITIONS\\n\")\n",
    "    outfile.write(\"**\\n\")\n",
    "    outfile.write(\"*Boundary\\n\")\n",
    "    outfile.write(\"{0}, ENCASTRE\\n\".format(bcname))\n",
    "    \n",
    "    # LOADS\n",
    "    outfile.write(\"**\\n\")\n",
    "    outfile.write(\"** LOADS\\n\")\n",
    "    outfile.write(\"**\\n\")\n",
    "    outfile.write(\"*Cload\\n\")\n",
    "    #outfile.write(\"{0}, {1:2d}, {2}\\n\".format(loadnodes, 2, -0.5 ))\n",
    "    if len(loaded) > 2:\n",
    "        outfile.write(\"{0}, {1:2d}, {2}\\n\".format(loadintnodes, 2, -1.0/y_e ))\n",
    "    outfile.write(\"{0}, {1:2d}, {2}\\n\".format(loadextnodes, 2, -0.5/y_e ))\n",
    "    \n",
    "    outfile.write(\"*NODE FILE, LAST MODE={0}\\n\".format(num_modes))\n",
    "    outfile.write(\"U, RF\\n\")\n",
    "    #outfile.write(\"*EL FILE, ELSET=PRINT, LAST MODE={0}\\n\".format(num_modes))\n",
    "    #outfile.write(\"ENER,\\n\")\n",
    "    #outfile.write(\"ELEN,\\n\")\n",
    "    outfile.write(\"*END STEP\\n\")        \n",
    "    outfile.close()\n",
    "    \n",
    "    if not os.path.exists('../Lab06_abaqus/'+basename+'/'):\n",
    "        os.makedirs('../Lab06_abaqus/'+basename+'/')\n",
    "\n",
    "    shutil.move(filename,'../Lab06_abaqus/'+basename+'/'+filename)"
   ]
  },
  {
   "cell_type": "markdown",
   "metadata": {},
   "source": [
    "## Write input file - Beam"
   ]
  },
  {
   "cell_type": "code",
   "execution_count": 29,
   "metadata": {
    "collapsed": false
   },
   "outputs": [],
   "source": [
    "def write_beam_inp_file(L, h, b, num_e, E, ν, num_modes):\n",
    "    \"\"\"\n",
    "    function to write inp file:\n",
    "    L        : lenght of cantilever\n",
    "    h        : height\n",
    "    b        :  thickness\n",
    "    num_e    : number of elements\n",
    "    E        : Young's modulus\n",
    "    nu       : Poisson ratio\n",
    "    num_modes: number of eigenvalues to be estimated\n",
    "    \"\"\"\n",
    "    \n",
    "    basename = 'b1_ne'+str(num_e).zfill(3)+'_aB'\n",
    "    \n",
    "    filename = basename+'.inp'\n",
    "    \n",
    "    outfile = open(filename, \"wt\")\n",
    "    \n",
    "    outfile.write(\"** Lab 06 input file buckling - beam\\n\")\n",
    "    \n",
    "    elname = \"EALL\"\n",
    "    matname = \"mat1\"\n",
    "    \n",
    "    n_coords = np.zeros((num_e+1,2))\n",
    "    \n",
    "    for ni in range(1,num_e+1):\n",
    "        n_coords[ni,0] = ni/(num_e)*L\n",
    "        \n",
    "    # NODES section\n",
    "    outfile.write(\"**\\n\")\n",
    "    outfile.write(\"** Nodes\\n\")\n",
    "    outfile.write(\"**\\n\")\n",
    "    outfile.write(\"*NODE\\n\")\n",
    "    \n",
    "    for i in range(num_e+1):\n",
    "        nodestring = \"{0:4d},{1:8},{2:8}\\n\".format(i+1,n_coords[i,0],n_coords[i,1])\n",
    "        outfile.write(nodestring)\n",
    "        \n",
    "    # ELEMENTS section\n",
    "    outfile.write(\"**\\n\")\n",
    "    outfile.write(\"** Elements\\n\")\n",
    "    outfile.write(\"**\\n\")\n",
    "    outfile.write(\"*ELEMENT, TYPE={0}, ELSET={1}\\n\".format('B31',elname))\n",
    "    for i in range(1,num_e+1):\n",
    "        outfile.write(\"{0:4d},{1:4d},{2:4d}\\n\".format(i,i,i+1))\n",
    "    \n",
    "    # BEAM section\n",
    "        \n",
    "    outfile.write(\"**\\n\")\n",
    "    outfile.write(\"** Beam section\\n\")\n",
    "    outfile.write(\"**\\n\")\n",
    "    outfile.write(\"*BEAM SECTION, SECTION=RECT, MATERIAL={0}, ELSET={1}\\n\".format(matname,elname))\n",
    "    outfile.write(\"{0},{1}\\n\".format(b,h))\n",
    "    # default orientation?\n",
    "    outfile.write(\"0,0,-1\\n\")\n",
    "    \n",
    "    # MATERIAL section\n",
    "    outfile.write(\"**\\n\")\n",
    "    outfile.write(\"** Materials\\n\")\n",
    "    outfile.write(\"**\\n\")\n",
    "    outfile.write(\"*MATERIAL, name = {0}\\n\".format(matname))\n",
    "    outfile.write(\"*ELASTIC\\n\")\n",
    "    outfile.write(\"{0},{1:6}\\n\".format(E,ν))\n",
    "    \n",
    "    \n",
    "    # BOUNDARY CONDITIONS\n",
    "    outfile.write(\"**\\n\")\n",
    "    outfile.write(\"** Boundary conditions\\n\")\n",
    "    outfile.write(\"**\\n\")\n",
    "    outfile.write(\"*BOUNDARY\\n\")\n",
    "    outfile.write(\"1,\\t1,\\t6\\n\")\n",
    "    \n",
    "    # calculation steps\n",
    "    \n",
    "    outfile.write(\"**\\n\")\n",
    "    outfile.write(\"** Step\\n\")\n",
    "    outfile.write(\"**\\n\")\n",
    "    \n",
    "    outfile.write(\"*STEP\\n\")\n",
    "    outfile.write(\"*BUCKLE\\n\")\n",
    "    outfile.write(\"{0},\\n\".format(num_modes))\n",
    "    \n",
    "    # LOADS\n",
    "    \n",
    "    outfile.write(\"**\\n\")\n",
    "    outfile.write(\"** Loads\\n\")\n",
    "    outfile.write(\"**\\n\")\n",
    "    outfile.write(\"*Cload\\n\")\n",
    "    outfile.write(\"{0}, {1:2d}, {2}\\n\".format(num_e+1, 2, -1. ))\n",
    "\n",
    "    outfile.write(\"*NODE FILE, LAST MODE={0}\\n\".format(num_modes))\n",
    "    outfile.write(\"U, RF\\n\")\n",
    "    #outfile.write(\"*EL FILE, ELSET=PRINT, LAST MODE={0}\\n\".format(num_modes))\n",
    "    #outfile.write(\"ENER,\\n\")\n",
    "    #outfile.write(\"ELEN,\\n\")\n",
    "    outfile.write(\"*END STEP\\n\")\n",
    "\n",
    "    outfile.close()\n",
    "    \n",
    "    if not os.path.exists('../Lab06_abaqus/'+basename+'/'):\n",
    "        os.makedirs('../Lab06_abaqus/'+basename+'/')\n",
    "\n",
    "    shutil.move(filename,'../Lab06_abaqus/'+basename+'/'+filename)"
   ]
  },
  {
   "cell_type": "markdown",
   "metadata": {},
   "source": [
    "Set parameters for simulation:\n",
    "\n",
    "- *L, b, h* : cantilever dimensions\n",
    "- *eltype*  : type of **beam** or **shell** element\n",
    "- *eig_num* : maximum eigenvalue to be estimated\n",
    "- **E**, $\\nu$: elastic properties (Young modulus and Poisson ratio, as *TYPE* is by default **isotropic**)\n",
    "- *num_elems*: number of elements in **x** direction\n",
    "- *yel_shell*: number of elements in **y** direction for shell case"
   ]
  },
  {
   "cell_type": "code",
   "execution_count": 30,
   "metadata": {
    "collapsed": false
   },
   "outputs": [],
   "source": [
    "L = 200. # lenght [mm]\n",
    "h = 15.  # height [mm]\n",
    "b = 1.5  # thickness [mm]\n",
    "\n",
    "\n",
    "eltype = ['S4R','B31']\n",
    "\n",
    "eig_num = 6\n",
    "\n",
    "E = 72000. # modulus [MPa]\n",
    "ν = 0.33   # Poisson's coefficient\n",
    "\n",
    "# number of elements\n",
    "\n",
    "num_elems = [4, 5, 10, 20, 25, 50, 100,200]\n",
    "\n",
    "yel_shell = [1, 2, 5,15]\n",
    "\n",
    "for ne in num_elems:\n",
    "    for et in eltype:\n",
    "        # time steps\n",
    "        if et[0] == 'S':\n",
    "            for ye in yel_shell:\n",
    "                write_shell_inp_file(L, h, b, ne, ye, E, ν, eig_num)\n",
    "        elif et[0] == 'B':\n",
    "            write_beam_inp_file(L, h, b, ne, E, ν, eig_num)\n",
    "        else:\n",
    "            print(\"Element type not recognized\")"
   ]
  },
  {
   "cell_type": "code",
   "execution_count": 31,
   "metadata": {
    "collapsed": true
   },
   "outputs": [],
   "source": [
    "#old NOT used\n",
    "def generateCases_old(loc, prefix, filename):\n",
    "    \"\"\"\n",
    "    generates all cases from specified root directory and starting with prefix\n",
    "    loc : root directory\n",
    "    \"\"\"\n",
    "    dirs = glob.glob(loc+\"/\"+prefix+\"*\")\n",
    "    \n",
    "    command = ['abaqus']\n",
    "    \n",
    "    options = [['datacheck','interactive'],['interactive','continue']]\n",
    "    \n",
    "    outfile = open(loc+\"/\"+filename, \"wt\")\n",
    "\n",
    "    outfile.write(\"#!/bin/bash\\n\\n\")\n",
    "\n",
    "    for di in dirs:\n",
    "        test = di.split('/')[-1]\n",
    "        outfile.write(\"cd {0}\\n\\n\".format(di))\n",
    "        outfile.write(\"/usr/simulia/abaqus/Commands/abaqus j={0} datacheck interactive\\n\".format(test))\n",
    "        outfile.write(\"/usr/simulia/abaqus/Commands/abaqus j={0} interactive continue\\n\\n\".format(test))\n",
    "        outfile.write(\"cd ..\\n\\n\")\n",
    "    \n",
    "    outfile.close()\n",
    "    os.chmod(loc+\"/\"+filename, 0o744)"
   ]
  },
  {
   "cell_type": "code",
   "execution_count": 32,
   "metadata": {
    "collapsed": true
   },
   "outputs": [],
   "source": [
    "def generateCases(loc, prefix):\n",
    "    \"\"\"\n",
    "    generates all cases from specified root directory and starting with prefix\n",
    "    loc : root directory\n",
    "    \"\"\"\n",
    "    curr_dir = os.getcwd()\n",
    "    \n",
    "    if not loc.startswith(\"/\"):\n",
    "        #relativer path\n",
    "        base_dir = os.path.abspath(loc)\n",
    "    else:\n",
    "        base_dir = loc\n",
    "    \n",
    "    #print(curr_dir)\n",
    "    dirs = glob.glob(loc+\"/\"+prefix+\"*\")\n",
    "    \n",
    "    command = ['/usr/simulia/abaqus/Commands/abaqus']\n",
    "    \n",
    "    options = [['datacheck','interactive'],['interactive','continue']]\n",
    "    \n",
    "    for di in dirs:\n",
    "        test = di.split('/')[-1]\n",
    "        os.chdir(di)\n",
    "        job=\"j={0}\".format(test)\n",
    "        \n",
    "        for opt in options:\n",
    "            subprocess.call(command+[job]+opt)\n",
    "        \n",
    "        os.chdir(base_dir)\n",
    "        \n",
    "    os.chdir(curr_dir)"
   ]
  },
  {
   "cell_type": "markdown",
   "metadata": {},
   "source": [
    "# Generate Abaqus cases"
   ]
  },
  {
   "cell_type": "code",
   "execution_count": 33,
   "metadata": {
    "collapsed": false
   },
   "outputs": [],
   "source": [
    "generateCases(\"../Lab06_abaqus/\",\"b1_\")"
   ]
  },
  {
   "cell_type": "markdown",
   "metadata": {
    "collapsed": false
   },
   "source": [
    "# Analytical solution:"
   ]
  },
  {
   "cell_type": "markdown",
   "metadata": {
    "collapsed": false
   },
   "source": [
    "$P_{cr}$ analytical relation:\n",
    "\n",
    "$P_{cr} = 4.0129 \\cdot \\frac{1}{L^2} \\cdot \\sqrt{E I_{22} G J_{t}}$\n",
    "\n",
    "where:\n",
    "\n",
    "- $G = \\frac{E}{2 \\cdot (1+\\nu)}$\n",
    "- $I_{22} = \\frac{1}{12} \\cdot hb^3$\n",
    "- $J_{t} = \\beta \\cdot hb^3$\n",
    "- $\\beta = 0.312 \\quad (\\frac{h}{b} = 10)$\n"
   ]
  },
  {
   "cell_type": "code",
   "execution_count": 34,
   "metadata": {
    "collapsed": false
   },
   "outputs": [
    {
     "name": "stdout",
     "output_type": "stream",
     "text": [
      "Pcr =  36.1527829995\n"
     ]
    }
   ],
   "source": [
    "G = E/(2*(1+ν))\n",
    "I22 = h*b**3/12\n",
    "Jt = .312*h*b**3\n",
    "\n",
    "Pcr = 4.0129/L**2*np.sqrt(E*I22*G*Jt)\n",
    "\n",
    "print(\"Pcr = \",Pcr)"
   ]
  },
  {
   "cell_type": "markdown",
   "metadata": {},
   "source": [
    "# Simulations data"
   ]
  },
  {
   "cell_type": "code",
   "execution_count": 35,
   "metadata": {
    "collapsed": false
   },
   "outputs": [],
   "source": [
    "def readDataL06(filename):\n",
    "    \n",
    "    file=open(filename,'r') \n",
    "    row = file.readlines()\n",
    "    \n",
    "    eig = -1.0\n",
    "    \n",
    "    for line in row:\n",
    "        strlist = line.split()\n",
    "        if len(strlist) == 2:\n",
    "            if strlist[0] == '1':\n",
    "                eig = np.abs(float(strlist[1]))\n",
    "                break\n",
    "    file.close()\n",
    "    return eig\n"
   ]
  },
  {
   "cell_type": "code",
   "execution_count": 36,
   "metadata": {
    "collapsed": false
   },
   "outputs": [
    {
     "name": "stdout",
     "output_type": "stream",
     "text": [
      "{1: [array([  4,   5,  10,  20,  25,  50, 200]), array([ 41.058,  39.722,  37.525,  36.476,  36.278,  35.964,  35.871])], 2: [array([  4,   5,  10,  20,  25,  50, 100, 200]), array([ 41.981,  40.72 ,  38.896,  38.409,  38.348,  38.266,  38.244,\n",
      "        38.239])], 5: [array([  4,   5,  10,  20,  25,  50, 100, 200]), array([ 42.18 ,  40.911,  39.03 ,  38.378,  38.24 ,  37.915,  37.747,\n",
      "        37.689])], 15: [array([  4,   5,  10,  20,  25,  50, 100, 200]), array([ 42.209,  40.939,  39.052,  38.386,  38.239,  37.868,  37.663,\n",
      "        37.59 ])]}\n"
     ]
    }
   ],
   "source": [
    "dirs = glob.glob(\"../Lab06_abaqus/b1_*\")\n",
    "\n",
    "bl_el = []\n",
    "bl_eig = []\n",
    "\n",
    "shell_data = {}\n",
    "\n",
    "for di in dirs:\n",
    "    test = di.split('/')[-1]\n",
    "    \n",
    "    if '_aS' in test:\n",
    "        #print(\"shell\")\n",
    "        yel = int(test[11:13])\n",
    "        if yel not in shell_data:\n",
    "            shell_data[yel] = [[],[]]\n",
    "        a = readDataL06(di+\"/\"+test+\".dat\")\n",
    "        if a != -1.0:\n",
    "            shell_data[yel][0].append(int(test[5:8]))\n",
    "            shell_data[yel][1].append(a)\n",
    "    elif '_aB' in test:\n",
    "        #print(\"beam\")\n",
    "        a = readDataL06(di+\"/\"+test+\".dat\")\n",
    "        if a != -1.0:\n",
    "            bl_el.append(int(test[5:8]))\n",
    "            bl_eig.append(a)\n",
    "    else:\n",
    "        print(\"Element type not recognized\")\n",
    "\n",
    "beam_el = np.array(bl_el)\n",
    "beam_eig = np.array(bl_eig)\n",
    "\n",
    "sort_index = np.argsort(beam_el)\n",
    "beam_el = beam_el[sort_index]\n",
    "beam_eig = beam_eig[sort_index]\n",
    "\n",
    "#print(beam_el)\n",
    "#print(beam_eig)\n",
    "\n",
    "for ye in shell_data:\n",
    "    tmp_el = np.array(shell_data[ye][0])\n",
    "    tmp_eig = np.array(shell_data[ye][1])\n",
    "    sort_index = np.argsort(tmp_el)\n",
    "    shell_data[ye] =[tmp_el[sort_index],tmp_eig[sort_index]]\n",
    "\n",
    "#print(shell_data)"
   ]
  },
  {
   "cell_type": "code",
   "execution_count": 42,
   "metadata": {
    "collapsed": false
   },
   "outputs": [
    {
     "data": {
      "image/png": "[encoded data removed]",
      "text/plain": [
       "<matplotlib.figure.Figure at 0x7f9d7aa197b8>"
      ]
     },
     "metadata": {},
     "output_type": "display_data"
    }
   ],
   "source": [
    "max_beam_el = np.max(beam_el)\n",
    "\n",
    "max_shell_el = 0\n",
    "\n",
    "for ye in shell_data:\n",
    "    tmp_max = np.max(shell_data[ye][0])\n",
    "    if tmp_max > max_shell_el:\n",
    "        max_shell_el = tmp_max\n",
    "        \n",
    "max_el = max(max_shell_el, max_beam_el)\n",
    "\n",
    "x_pcr = np.linspace(0,max_el,10)\n",
    "y_pcr = Pcr*np.ones_like(x_pcr)\n",
    "\n",
    "plt.figure(figsize=(16,10), dpi=300)\n",
    "\n",
    "plt.plot(x_pcr,y_pcr, '-', lw=3, label='$P_{cr}$ analytical')\n",
    "\n",
    "plt.plot(beam_el,beam_eig,'-', lw=2, color=(0.5,0.0,0.0), label=\"$P_{cr}$ beam\")\n",
    "plt.plot(beam_el,beam_eig,'h', ms=8, color=(0.5,0.0,0.0))\n",
    "\n",
    "for i, ye in enumerate(shell_data):\n",
    "    plt.plot(shell_data[ye][0],shell_data[ye][1],'-', lw=2, color=(0.0,(i+1)/len(shell_data),0.0), \\\n",
    "             label=\"$P_{cr}$ shell $n_y$=\"+str(ye)  )\n",
    "    plt.plot(shell_data[ye][0],shell_data[ye][1],'h', ms=8, color=(0.0,(i+1)/len(shell_data),0.0) )\n",
    "\n",
    "\n",
    "plt.xlim([0,max_el])\n",
    "plt.ylim([np.floor(Pcr-1),np.ceil(Pcr+6)])\n",
    "plt.xticks(np.arange(0.0,max_el+.1,5))\n",
    "plt.yticks(np.arange(np.floor(Pcr-1),np.ceil(Pcr+6)+.1,.5))\n",
    "plt.title('Flexural - Torsional buckling load')\n",
    "plt.xlabel(r'number of elements')\n",
    "plt.ylabel(r'Critical load $[N]$')\n",
    "plt.legend(loc='upper center', shadow=True)\n",
    "plt.grid()\n",
    "plt.savefig('Lab06a.jpg')"
   ]
  },
  {
   "cell_type": "code",
   "execution_count": null,
   "metadata": {
    "collapsed": false
   },
   "outputs": [],
   "source": []
  },
  {
   "cell_type": "code",
   "execution_count": null,
   "metadata": {
    "collapsed": true
   },
   "outputs": [],
   "source": []
  }
 ],
 "metadata": {
  "kernelspec": {
   "display_name": "Python 3",
   "language": "python",
   "name": "python3"
  },
  "language_info": {
   "codemirror_mode": {
    "name": "ipython",
    "version": 3
   },
   "file_extension": ".py",
   "mimetype": "text/x-python",
   "name": "python",
   "nbconvert_exporter": "python",
   "pygments_lexer": "ipython3",
   "version": "3.4.3"
  }
 },
 "nbformat": 4,
 "nbformat_minor": 0
}
