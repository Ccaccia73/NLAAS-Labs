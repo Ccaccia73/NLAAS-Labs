{
 "cells": [
  {
   "cell_type": "code",
   "execution_count": 13,
   "metadata": {
    "collapsed": true
   },
   "outputs": [],
   "source": [
    "import numpy as np\n",
    "import os\n",
    "import glob\n",
    "import shutil\n",
    "import matplotlib.pyplot as plt\n",
    "import json\n",
    "import subprocess\n",
    "from matplotlib import rcParams\n",
    "rcParams['font.family'] = 'serif'\n",
    "rcParams['font.size'] = 20\n",
    "from IPython.display import Image\n",
    "%matplotlib inline"
   ]
  },
  {
   "cell_type": "markdown",
   "metadata": {},
   "source": [
    "Module for computations"
   ]
  },
  {
   "cell_type": "code",
   "execution_count": 14,
   "metadata": {
    "collapsed": true
   },
   "outputs": [],
   "source": [
    "import FEM_utilities as FEM"
   ]
  },
  {
   "cell_type": "markdown",
   "metadata": {},
   "source": [
    "## Write input file"
   ]
  },
  {
   "cell_type": "markdown",
   "metadata": {},
   "source": [
    "Set parameters for simulation:\n",
    "\n",
    "- *a*, *b*, *h*: geometry of plate\n",
    "- **nx**, **ny**, number of elements in *x* and *y* directions\n",
    "- **E**, $\\nu$: elastic properties (Young modulus and Poisson ratio, as *TYPE* is by default **isotropic**) \n",
    "- $\\gamma$: scale factor of $\\sigma_y$ wrt $\\sigma_x$\n",
    "- *num_modes*: buckling modes to be computed (by default **1**)\n",
    "\n",
    "Function *write_inp_file* defines:\n",
    "\n",
    "- *filename* : name of input file\n",
    "- *eltype* : type of shell element (see conventions [here](http://media.3ds.com/support/documentation/product/V6R2013/en/English/MpeUsbHtml/pt06ch29s06alm17.htm))\n",
    "- *matname*: name of material\n",
    "- *elname*: **\\*Elset** assigned name\n",
    "- *bc*, *load*: names for boundary condition, external and internal nodes loaded \n",
    "- *pa*, *pb*,*ax*, $\\alpha$: coordinate points, axis and angle used to define local coordinate system (see conventions [here](http://media.3ds.com/support/documentation/product/V6R2013/en/English/MpeKeyHtml/ch15abk01.htm#usb-kws-morientation)) \n",
    "- *intpoints*: shell integration points"
   ]
  },
  {
   "cell_type": "code",
   "execution_count": 15,
   "metadata": {
    "collapsed": false
   },
   "outputs": [],
   "source": [
    "def write_inp_file(a, b, h, nx, ny, E, ν, γ, num_modes=1):\n",
    "    \"\"\"\n",
    "    function to write inp file:\n",
    "    a        : lenght of plate\n",
    "    b        : height\n",
    "    h        : thickness\n",
    "    nx       : number of elements in x direction\n",
    "    ny       : number of elements in y direction\n",
    "    E        : Young's modulus\n",
    "    nu       : Poisson ratio\n",
    "    gamma    : sy = gamma*sx\n",
    "    num_modes: number of eigenvalues to be estimated\n",
    "    \"\"\"\n",
    "    \n",
    "    elname = \"EALL\"\n",
    "    matname = \"mat1\"\n",
    "    \n",
    "    \n",
    "    bcs = [\"x0_nodes\", \"xL_nodes\", \"y0_nodes\", \"yW_nodes\"]\n",
    "    \n",
    "    sx_ext = 'loaded_nodes_ext_sx'\n",
    "    sx_int = 'loaded_nodes_int_sx'\n",
    "    sy_ext = 'loaded_nodes_ext_sy'\n",
    "    sy_int = 'loaded_nodes_int_sy'\n",
    "\n",
    "    \n",
    "    pa = [1.0,0.0,0.0]\n",
    "    pb = [0.0,1.0,0.0]\n",
    "    # pc = [0.0,0.0,0.0]\n",
    "    ax = 3\n",
    "    α = 0.0\n",
    "    \n",
    "    intpoints = 5\n",
    "    \n",
    "    basename = 'p_nx'+str(nx).zfill(3)+'_ny'+str(ny).zfill(3)+'_g'+str(int(γ*100)).zfill(3)\n",
    "\n",
    "    filename = basename+'.inp'\n",
    "    \n",
    "    outfile = open(filename, \"wt\")\n",
    "    \n",
    "    outfile.write(\"** Lab 07 input file - buckling of plate under biaxial load\\n\")\n",
    "        \n",
    "    nodes, elements, y0, yL, x0, xW = FEM.NodesLab07(nx, ny, a, b)\n",
    "    \n",
    "    bc_nodes = [y0, yL, x0, xW]\n",
    "        \n",
    "    # NODES section\n",
    "    outfile.write(\"**\\n\")\n",
    "    outfile.write(\"** Nodes\\n\")\n",
    "    outfile.write(\"**\\n\")\n",
    "    outfile.write(\"*NODE, nset = nglobal\\n\")\n",
    "\n",
    "    for i in range(nodes.shape[0]):\n",
    "        nodestring = \"{0:4d}\".format(int(nodes[i,0]))\n",
    "        for j in range(1,nodes.shape[1]):\n",
    "            nodestring+=\",{0:8}\".format(nodes[i,j])\n",
    "        nodestring+=\"\\n\"\n",
    "        outfile.write(nodestring)\n",
    "        \n",
    "    # ELEMENTS section\n",
    "    outfile.write(\"**\\n\")\n",
    "    outfile.write(\"** Elements\\n\")\n",
    "    outfile.write(\"**\\n\")\n",
    "    outfile.write(\"*ELEMENT, type = S4R\\n\")\n",
    "    \n",
    "    for i in range(elements.shape[0]):\n",
    "        elstring = \"{0:4d}\".format(int(elements[i,0]))\n",
    "        for j in range(1,elements.shape[1]):\n",
    "            elstring+=\",{0:4d}\".format(int(elements[i,j]))\n",
    "        elstring+=\"\\n\"\n",
    "        outfile.write(elstring)\n",
    "\n",
    "    # MATERIAL section\n",
    "    outfile.write(\"**\\n\")\n",
    "    outfile.write(\"** Materials\\n\")\n",
    "    outfile.write(\"**\\n\")\n",
    "    outfile.write(\"*MATERIAL, name = {0}\\n\".format(matname))\n",
    "    outfile.write(\"*Elastic\\n\")\n",
    "    outfile.write(\"{0},{1:6}\\n\".format(E,ν))\n",
    "\n",
    "    # SETS section\n",
    "    # NODES\n",
    "    outfile.write(\"**\\n\")\n",
    "    outfile.write(\"** Sets\\n\")\n",
    "    outfile.write(\"**\\n\")\n",
    "    \n",
    "    for i, bc in enumerate(bcs):\n",
    "        outfile.write(\"*NSET, nset = {0}\\n\".format(bc))\n",
    "        \n",
    "        n_lines = np.ceil(len(bc_nodes[i])/16)\n",
    "        \n",
    "        for i_line in range(int(n_lines)):\n",
    "            bc_str = \"{0:4d}\".format(int(bc_nodes[i][16*i_line]))\n",
    "            \n",
    "            for j in range(16*i_line+1,min(len(bc_nodes[i]),16*(i_line+1)) ):\n",
    "                bc_str+=\",{0:4d}\".format(int(bc_nodes[i][j]))\n",
    "            bc_str+=\"\\n\"\n",
    "            outfile.write(bc_str)\n",
    "        \n",
    "        # il seguente funziona se <= 16\n",
    "        #bc_str = \"{0:4d}\".format(int(bc_nodes[i][0]))\n",
    "        #for j in range(1,len(bc_nodes[i])):\n",
    "        #     bc_str+=\",{0:4d}\".format(int(bc_nodes[i][j]))\n",
    "        #bc_str+=\"\\n\"\n",
    "        #outfile.write(bc_str)\n",
    "        \n",
    "    # loaded\n",
    "    \n",
    "    # SIGMA x\n",
    "    if len(yL > 2):\n",
    "        outfile.write(\"*Nset, nset = {0}\\n\".format(sx_int))\n",
    "        \n",
    "        yLint = yL[1:-1]\n",
    "        \n",
    "        n_lines = np.ceil(len(yLint)/16)\n",
    "        \n",
    "        for i_line in range(int(n_lines)):\n",
    "            il_str = \"{0:4d}\".format(int(yLint[16*i_line]))\n",
    "            for j in range(16*i_line+1,min(len(yLint),16*(i_line+1)) ):\n",
    "                il_str+=\",{0:4d}\".format(int(yLint[j]))\n",
    "            il_str+=\"\\n\"\n",
    "            outfile.write(il_str)\n",
    "    \n",
    "    outfile.write(\"*Nset, nset = {0}\\n\".format(sx_ext))\n",
    "    el_str = \"{0:4d},{1:4d}\\n\".format(int(yL[0]),int(yL[-1]))\n",
    "    outfile.write(el_str)\n",
    "    \n",
    "    # SIGMA y\n",
    "    if len(xW > 2):\n",
    "        outfile.write(\"*Nset, nset = {0}\\n\".format(sy_int))\n",
    "        \n",
    "        xWint = xW[1:-1]\n",
    "        \n",
    "        n_lines = np.ceil(len(xWint)/16)\n",
    "        \n",
    "        for i_line in range(int(n_lines)):\n",
    "            il_str = \"{0:4d}\".format(int(xWint[16*i_line]))\n",
    "            for j in range(16*i_line+1,min(len(xWint),16*(i_line+1)) ):\n",
    "                il_str+=\",{0:4d}\".format(int(xWint[j]))\n",
    "            il_str+=\"\\n\"\n",
    "            outfile.write(il_str)\n",
    "    \n",
    "    outfile.write(\"*Nset, nset = {0}\\n\".format(sy_ext))\n",
    "    el_str = \"{0:4d},{1:4d}\\n\".format(int(xW[0]),int(xW[-1]))\n",
    "    outfile.write(el_str)\n",
    "    \n",
    "    # ELEMENTS\n",
    "    outfile.write(\"*Elset, elset = {0}, generate\\n\".format(elname))\n",
    "    outfile.write(\"{0:4d},{1:4d},{2:4d}\\n\".format(1,elements.shape[0],1))\n",
    "    \n",
    "    # ORIENTATION\n",
    "    outfile.write(\"**\\n\")\n",
    "    outfile.write(\"** LOCAL ORIENTATION\\n\")\n",
    "    outfile.write(\"**\\n\")\n",
    "    outfile.write(\"*orientation, name = local_orientation\\n\")\n",
    "    outfile.write(\"\".join(str(pa+pb))[1:-1])\n",
    "    outfile.write(\"\\n\")\n",
    "    outfile.write(\"{0},{1:4}\\n\".format(ax,α))\n",
    "\n",
    "    # SHELL PROPERTIES\n",
    "    outfile.write(\"**\\n\")\n",
    "    outfile.write(\"** SHELL PROPERTIES\\n\")\n",
    "    outfile.write(\"**\\n\")\n",
    "    outfile.write(\"*Shell Section, elset = {0}, material = {1}, orientation = local_orientation\\n\" \\\n",
    "                  .format(elname,matname))\n",
    "    outfile.write(\"{0:4},{1:4d}\\n\".format(h,intpoints))\n",
    "    \n",
    "    # calculation steps\n",
    "    outfile.write(\"**\\n\")\n",
    "    outfile.write(\"** STEP\\n\")\n",
    "    outfile.write(\"**\\n\")\n",
    "        \n",
    "    \n",
    "    outfile.write(\"*STEP\\n\")\n",
    "    outfile.write(\"*BUCKLE\\n\")\n",
    "    outfile.write(\"{0},\\n\".format(num_modes))\n",
    "    \n",
    "    # BOUNDARY CONDITIONS\n",
    "    outfile.write(\"**\\n\")\n",
    "    outfile.write(\"** BOUNDARY CONDITIONS\\n\")\n",
    "    outfile.write(\"**\\n\")\n",
    "    outfile.write(\"*Boundary\\n\")\n",
    "    for bc in bcs:\n",
    "        outfile.write(\"{0}, 3\\n\".format(bc))\n",
    "    \n",
    "    outfile.write(\"{0}, 1\\n\".format(bcs[0]))\n",
    "    outfile.write(\"{0}, 2\\n\".format(bcs[2]))\n",
    "    \n",
    "    # LOADS\n",
    "    outfile.write(\"**\\n\")\n",
    "    outfile.write(\"** LOADS\\n\")\n",
    "    outfile.write(\"**\\n\")\n",
    "    outfile.write(\"*Cload\\n\")\n",
    "    #outfile.write(\"{0}, {1:2d}, {2}\\n\".format(loadnodes, 2, -0.5 ))\n",
    "    if len(bcs[1]) > 2:\n",
    "        outfile.write(\"{0}, {1:2d}, {2}\\n\".format(sx_int, 1, -1.0*(b*h)/ny ))\n",
    "    outfile.write(\"{0}, {1:2d}, {2}\\n\".format(sx_ext, 1, -0.5*(b*h)/ny ))\n",
    "    \n",
    "    if len(bcs[3]) > 2:\n",
    "        outfile.write(\"{0}, {1:2d}, {2}\\n\".format(sy_int, 2, -1.0*(a*h)*γ/nx ))\n",
    "    outfile.write(\"{0}, {1:2d}, {2}\\n\".format(sy_ext, 2, -0.5*(a*h)*γ/nx ))\n",
    "\n",
    "    \n",
    "    outfile.write(\"*NODE FILE, LAST MODE={0}\\n\".format(num_modes))\n",
    "    outfile.write(\"U, RF\\n\")\n",
    "    #outfile.write(\"*EL FILE, ELSET=PRINT, LAST MODE={0}\\n\".format(num_modes))\n",
    "    #outfile.write(\"ENER,\\n\")\n",
    "    #outfile.write(\"ELEN,\\n\")\n",
    "    outfile.write(\"*END STEP\\n\")        \n",
    "    outfile.close()\n",
    "    \n",
    "    if not os.path.exists('../Lab07_abaqus/'+basename+'/'):\n",
    "        os.makedirs('../Lab07_abaqus/'+basename+'/')\n",
    "\n",
    "    shutil.move(filename,'../Lab07_abaqus/'+basename+'/'+filename)"
   ]
  },
  {
   "cell_type": "markdown",
   "metadata": {},
   "source": [
    "Parameters:"
   ]
  },
  {
   "cell_type": "code",
   "execution_count": 16,
   "metadata": {
    "collapsed": true
   },
   "outputs": [],
   "source": [
    "a = 700. # lenght [mm]\n",
    "b = 350.  # width  [mm]\n",
    "h = 1.3   # thickness [mm]\n"
   ]
  },
  {
   "cell_type": "markdown",
   "metadata": {},
   "source": [
    "Compute node coordinates, elements, constrained and loaded nodes"
   ]
  },
  {
   "cell_type": "code",
   "execution_count": 17,
   "metadata": {
    "collapsed": false
   },
   "outputs": [],
   "source": [
    "E = 72000. # modulus [MPa]\n",
    "ν = 0.33   # Poisson's coefficient\n",
    "\n",
    "nx = [7,14,14,50,100]\n",
    "ny = [7,7,14,50,50]\n",
    "\n",
    "#test many nodes\n",
    "#nx = [50,100]\n",
    "#ny = [50,50]\n",
    "\n",
    "# list of gammas\n",
    "γ_v = [0.01, 0.05, 0.1, 0.2, 0.25, 0.3, 0.4, 0.5, 0.75, 1.0, 1.5, 2.0, 2.5, 4.0, 6.0, 7.5, 9.0]\n",
    "\n",
    "#test\n",
    "#γ_v = [1.0]\n",
    "\n",
    "\n",
    "if len(nx) == len(ny):\n",
    "    for i in range(len(nx)):\n",
    "        for γ_act in γ_v:\n",
    "            write_inp_file(a, b, h, nx[i], ny[i], E, ν, γ_act)\n",
    "else:\n",
    "    print(\"nx and ny vector lenghts don't match\")"
   ]
  },
  {
   "cell_type": "code",
   "execution_count": 18,
   "metadata": {
    "collapsed": true
   },
   "outputs": [],
   "source": [
    "def generateCases(loc, prefix):\n",
    "    \"\"\"\n",
    "    generates all cases from specified root directory and starting with prefix\n",
    "    loc : root directory\n",
    "    \"\"\"\n",
    "    curr_dir = os.getcwd()\n",
    "    \n",
    "    if not loc.startswith(\"/\"):\n",
    "        #relativer path\n",
    "        base_dir = os.path.abspath(loc)\n",
    "    else:\n",
    "        base_dir = loc\n",
    "    \n",
    "    #print(curr_dir)\n",
    "    dirs = glob.glob(loc+\"/\"+prefix+\"*\")\n",
    "    \n",
    "    command = ['/usr/simulia/abaqus/Commands/abaqus']\n",
    "    \n",
    "    options = [['datacheck','interactive'],['interactive','continue']]\n",
    "    \n",
    "    for di in dirs:\n",
    "        test = di.split('/')[-1]\n",
    "        os.chdir(di)\n",
    "        job=\"j={0}\".format(test)\n",
    "        \n",
    "        for opt in options:\n",
    "            subprocess.call(command+[job]+opt)\n",
    "        \n",
    "        os.chdir(base_dir)\n",
    "        \n",
    "    os.chdir(curr_dir)"
   ]
  },
  {
   "cell_type": "markdown",
   "metadata": {},
   "source": [
    "##Generate Abaqus cases"
   ]
  },
  {
   "cell_type": "code",
   "execution_count": 19,
   "metadata": {
    "collapsed": false
   },
   "outputs": [],
   "source": [
    "# commented out as already computed:\n",
    "#generateCases(\"../Lab07_abaqus/\",\"p_\")"
   ]
  },
  {
   "cell_type": "markdown",
   "metadata": {
    "collapsed": false
   },
   "source": [
    "## Analytical solution:"
   ]
  },
  {
   "cell_type": "markdown",
   "metadata": {
    "collapsed": false
   },
   "source": [
    "$\\sigma_x = \\frac{\\pi^2}{b^2} \\cdot \\frac{1}{h} \\cdot Dk$\n",
    "\n",
    "$k = \\frac{\\left[ \\left( \\frac{m}{r} \\right)^2 + n^2 \\right]^2}{\\left( \\frac{m}{r} \\right)^2 + \\gamma n^2} \\quad m,n = 1 \\ldots \\infty $\n",
    "\n",
    "$\\sigma_{y} = \\gamma \\cdot \\sigma_{x}$\n",
    "\n",
    "$r = \\frac{a}{b} \\quad D = \\frac{E h^3}{12\\left(1-\\nu^2\\right)}$\n"
   ]
  },
  {
   "cell_type": "code",
   "execution_count": 20,
   "metadata": {
    "collapsed": false
   },
   "outputs": [],
   "source": [
    "r = a/b\n",
    "\n",
    "D = E*h**3/(12*(1-ν**2))\n",
    "\n",
    "γ_a = np.linspace(0.0,10.0, 10000)\n",
    "\n",
    "σ_x = np.zeros_like(γ_a)\n",
    "σ_y = np.zeros_like(γ_a)\n",
    "\n",
    "k_a = np.zeros_like(γ_a)\n",
    "m_min = np.zeros_like(γ_a)\n",
    "n_min = np.zeros_like(γ_a)\n",
    "\n",
    "for i, γ in enumerate(γ_a):\n",
    "    m_min[i] = 0\n",
    "    n_min[i] = 0\n",
    "    k_a[i] = np.inf\n",
    "    for m in range(1,15):\n",
    "        for n in range(1,15):\n",
    "            k_tmp = ((m/r)**2 + n**2)**2/((m/r)**2+γ*n**2)\n",
    "            if k_tmp < k_a[i]:\n",
    "                k_a[i] = k_tmp\n",
    "                m_min[i] = m\n",
    "                n_min[i] = n\n",
    "    \n",
    "    σ_x[i] = np.pi**2/b**2*D*k_a[i]/h\n",
    "    σ_y[i] = γ * σ_x[i]\n",
    "        \n",
    "\n"
   ]
  },
  {
   "cell_type": "markdown",
   "metadata": {},
   "source": [
    "#Simulations Data"
   ]
  },
  {
   "cell_type": "code",
   "execution_count": 21,
   "metadata": {
    "collapsed": true
   },
   "outputs": [],
   "source": [
    "def readDataL07(filename):\n",
    "    \n",
    "    file=open(filename,'r') \n",
    "    row = file.readlines()\n",
    "    \n",
    "    eig = -1.0\n",
    "    \n",
    "    for line in row:\n",
    "        strlist = line.split()\n",
    "        if len(strlist) == 2:\n",
    "            if strlist[0] == '1':\n",
    "                eig = np.abs(float(strlist[1]))\n",
    "                break\n",
    "    file.close()\n",
    "    return eig\n"
   ]
  },
  {
   "cell_type": "code",
   "execution_count": 22,
   "metadata": {
    "collapsed": false
   },
   "outputs": [],
   "source": [
    "dirs = glob.glob(\"../Lab07_abaqus/p_*\")\n",
    "\n",
    "p_eig = {}\n",
    "\n",
    "\n",
    "for di in dirs:\n",
    "    test = di.split('/')[-1]\n",
    "    a = readDataL07(di+\"/\"+test+\".dat\")\n",
    "    if a != -1.0:\n",
    "        if test[2:13] not in p_eig:\n",
    "            p_eig[test[2:13]] = [[],[]]\n",
    "        p_eig[test[2:13]][0].append(a)\n",
    "        p_eig[test[2:13]][1].append(a*float(test[-3:])/100)"
   ]
  },
  {
   "cell_type": "code",
   "execution_count": 27,
   "metadata": {
    "collapsed": false
   },
   "outputs": [
    {
     "data": {
      "image/png": "[encoded data removed]",
      "text/plain": [
       "<matplotlib.figure.Figure at 0x7ff802ce8278>"
      ]
     },
     "metadata": {},
     "output_type": "display_data"
    }
   ],
   "source": [
    "plt.figure(figsize=(16,10), dpi=300)\n",
    "plt.plot(σ_x, σ_y, lw=3., label='analytical')\n",
    "\n",
    "for act_test in p_eig:\n",
    "    lb = r'$n_x=$'+str(int(act_test[2:5]))+' $n_y=$'+str(int(act_test[8:11]))\n",
    "    plt.plot(p_eig[act_test][0],p_eig[act_test][1],'h',ms=8,label=lb)\n",
    "\n",
    "#plt.xlim([0.,4])\n",
    "#plt.ylim([0.0,1.6])\n",
    "plt.xticks(np.arange(0.,4.1,0.5))\n",
    "plt.yticks(np.arange(0.0,1.61,.2))\n",
    "plt.title('Buckling behavior under biaxial load', fontsize=20, fontweight=\"bold\")\n",
    "plt.xlabel(r'$\\sigma_x [MPa]$', fontsize=20)\n",
    "plt.ylabel(r'$\\sigma_y [MPa]$', fontsize=20)\n",
    "plt.legend(loc='upper right', shadow=True)\n",
    "plt.grid()\n",
    "plt.savefig('Lab07.jpg');"
   ]
  },
  {
   "cell_type": "code",
   "execution_count": 24,
   "metadata": {
    "collapsed": false
   },
   "outputs": [
    {
     "data": {
      "text/plain": [
       "[<matplotlib.lines.Line2D at 0x7ff802d5c438>]"
      ]
     },
     "execution_count": 24,
     "metadata": {},
     "output_type": "execute_result"
    },
    {
     "data": {
      "image/png": "[encoded data removed]",
      "text/plain": [
       "<matplotlib.figure.Figure at 0x7ff802d64588>"
      ]
     },
     "metadata": {},
     "output_type": "display_data"
    }
   ],
   "source": [
    "plt.figure(figsize=(16,10), dpi=300)\n",
    "plt.plot(γ_a, m_min, lw=3.,label='m')\n",
    "plt.plot(γ_a, n_min, lw=3.,label='n')"
   ]
  },
  {
   "cell_type": "code",
   "execution_count": null,
   "metadata": {
    "collapsed": false
   },
   "outputs": [],
   "source": []
  },
  {
   "cell_type": "code",
   "execution_count": null,
   "metadata": {
    "collapsed": true
   },
   "outputs": [],
   "source": []
  }
 ],
 "metadata": {
  "kernelspec": {
   "display_name": "Python 3",
   "language": "python",
   "name": "python3"
  },
  "language_info": {
   "codemirror_mode": {
    "name": "ipython",
    "version": 3
   },
   "file_extension": ".py",
   "mimetype": "text/x-python",
   "name": "python",
   "nbconvert_exporter": "python",
   "pygments_lexer": "ipython3",
   "version": "3.4.3"
  }
 },
 "nbformat": 4,
 "nbformat_minor": 0
}
